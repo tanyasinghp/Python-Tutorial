{
 "cells": [
  {
   "cell_type": "code",
   "execution_count": 1,
   "id": "0e0016bf",
   "metadata": {},
   "outputs": [],
   "source": [
    "class Human:\n",
    "    pass     \n",
    "#if you want to declare your class and not define a body - use pass keyword "
   ]
  },
  {
   "cell_type": "code",
   "execution_count": 2,
   "id": "1f602397",
   "metadata": {},
   "outputs": [
    {
     "ename": "SyntaxError",
     "evalue": "incomplete input (2422048552.py, line 1)",
     "output_type": "error",
     "traceback": [
      "\u001b[1;36m  Cell \u001b[1;32mIn [2], line 1\u001b[1;36m\u001b[0m\n\u001b[1;33m    class Human:\u001b[0m\n\u001b[1;37m                ^\u001b[0m\n\u001b[1;31mSyntaxError\u001b[0m\u001b[1;31m:\u001b[0m incomplete input\n"
     ]
    }
   ],
   "source": [
    "class Human:"
   ]
  },
  {
   "cell_type": "code",
   "execution_count": 8,
   "id": "248d9e8d",
   "metadata": {},
   "outputs": [],
   "source": [
    "class Human:\n",
    "    age = 0\n",
    "    name = \"Tanya\""
   ]
  },
  {
   "cell_type": "code",
   "execution_count": 9,
   "id": "b0fd51da",
   "metadata": {},
   "outputs": [],
   "source": [
    "kunal = Human()  #creating an object of class Human\n",
    "# whenever you create an object, a constructor is called ()\n",
    "# constructor = function "
   ]
  },
  {
   "cell_type": "code",
   "execution_count": 10,
   "id": "1392aecb",
   "metadata": {},
   "outputs": [
    {
     "data": {
      "text/plain": [
       "0"
      ]
     },
     "execution_count": 10,
     "metadata": {},
     "output_type": "execute_result"
    }
   ],
   "source": [
    "kunal.age"
   ]
  },
  {
   "cell_type": "code",
   "execution_count": 11,
   "id": "0523f48e",
   "metadata": {},
   "outputs": [
    {
     "data": {
      "text/plain": [
       "'Tanya'"
      ]
     },
     "execution_count": 11,
     "metadata": {},
     "output_type": "execute_result"
    }
   ],
   "source": [
    "kunal.name"
   ]
  },
  {
   "cell_type": "code",
   "execution_count": 12,
   "id": "edc094b0",
   "metadata": {},
   "outputs": [],
   "source": [
    "apoorv = Human()"
   ]
  },
  {
   "cell_type": "code",
   "execution_count": 13,
   "id": "73dbc8fd",
   "metadata": {},
   "outputs": [
    {
     "data": {
      "text/plain": [
       "(0, 0)"
      ]
     },
     "execution_count": 13,
     "metadata": {},
     "output_type": "execute_result"
    }
   ],
   "source": [
    "kunal.age, apoorv.age"
   ]
  },
  {
   "cell_type": "code",
   "execution_count": 14,
   "id": "59236d26",
   "metadata": {},
   "outputs": [],
   "source": [
    "kunal.age = 20\n",
    "apoorv.age = 56"
   ]
  },
  {
   "cell_type": "code",
   "execution_count": 15,
   "id": "7f4bfd83",
   "metadata": {},
   "outputs": [],
   "source": [
    "kunal.name = \"Kunal\"\n",
    "apoorv.name = \"Apoorv\""
   ]
  },
  {
   "cell_type": "code",
   "execution_count": 16,
   "id": "2de50196",
   "metadata": {},
   "outputs": [
    {
     "data": {
      "text/plain": [
       "('Kunal', 56)"
      ]
     },
     "execution_count": 16,
     "metadata": {},
     "output_type": "execute_result"
    }
   ],
   "source": [
    "kunal.name, apoorv.age"
   ]
  },
  {
   "cell_type": "code",
   "execution_count": 17,
   "id": "34d9a9e4",
   "metadata": {},
   "outputs": [
    {
     "data": {
      "text/plain": [
       "0"
      ]
     },
     "execution_count": 17,
     "metadata": {},
     "output_type": "execute_result"
    }
   ],
   "source": [
    "#however, these internal initialisations of object variables does not alter \n",
    "# main Human funtion variables\n",
    "\n",
    "Human.age"
   ]
  },
  {
   "cell_type": "code",
   "execution_count": 18,
   "id": "73daed78",
   "metadata": {},
   "outputs": [
    {
     "data": {
      "text/plain": [
       "'Tanya'"
      ]
     },
     "execution_count": 18,
     "metadata": {},
     "output_type": "execute_result"
    }
   ],
   "source": [
    "Human.name"
   ]
  },
  {
   "cell_type": "code",
   "execution_count": 19,
   "id": "8c231927",
   "metadata": {},
   "outputs": [],
   "source": [
    "kunal.salary = 5000"
   ]
  },
  {
   "cell_type": "code",
   "execution_count": 20,
   "id": "088f4c5d",
   "metadata": {},
   "outputs": [
    {
     "data": {
      "text/plain": [
       "5000"
      ]
     },
     "execution_count": 20,
     "metadata": {},
     "output_type": "execute_result"
    }
   ],
   "source": [
    "kunal.salary "
   ]
  },
  {
   "cell_type": "code",
   "execution_count": 21,
   "id": "d5b6e30b",
   "metadata": {},
   "outputs": [
    {
     "ename": "AttributeError",
     "evalue": "'Human' object has no attribute 'salary'",
     "output_type": "error",
     "traceback": [
      "\u001b[1;31m---------------------------------------------------------------------------\u001b[0m",
      "\u001b[1;31mAttributeError\u001b[0m                            Traceback (most recent call last)",
      "Cell \u001b[1;32mIn [21], line 1\u001b[0m\n\u001b[1;32m----> 1\u001b[0m \u001b[43mapoorv\u001b[49m\u001b[38;5;241;43m.\u001b[39;49m\u001b[43msalary\u001b[49m\n",
      "\u001b[1;31mAttributeError\u001b[0m: 'Human' object has no attribute 'salary'"
     ]
    }
   ],
   "source": [
    "apoorv.salary  \n",
    "\n",
    "#this gives an error, as there is no salary variable in the object\n",
    "#it checks it the class, there no variable salary there as well"
   ]
  },
  {
   "cell_type": "code",
   "execution_count": 22,
   "id": "b40966b1",
   "metadata": {},
   "outputs": [],
   "source": [
    "# however if I initialise Human.salary things change\n",
    "\n",
    "Human.salary = 10000"
   ]
  },
  {
   "cell_type": "code",
   "execution_count": 23,
   "id": "7785ca68",
   "metadata": {},
   "outputs": [
    {
     "data": {
      "text/plain": [
       "5000"
      ]
     },
     "execution_count": 23,
     "metadata": {},
     "output_type": "execute_result"
    }
   ],
   "source": [
    "kunal.salary   #it will give 5000 only becuase it checks object first"
   ]
  },
  {
   "cell_type": "code",
   "execution_count": 24,
   "id": "97a267c9",
   "metadata": {},
   "outputs": [
    {
     "data": {
      "text/plain": [
       "10000"
      ]
     },
     "execution_count": 24,
     "metadata": {},
     "output_type": "execute_result"
    }
   ],
   "source": [
    "apoorv.salary \n",
    "\n",
    "#since this does not have any variable salary in the object, \n",
    "#it takes the default Human class salary value"
   ]
  },
  {
   "cell_type": "code",
   "execution_count": null,
   "id": "2bca1bbe",
   "metadata": {},
   "outputs": [],
   "source": [
    "# Assign values when the object is created only, not later"
   ]
  },
  {
   "cell_type": "code",
   "execution_count": 25,
   "id": "56c85831",
   "metadata": {},
   "outputs": [],
   "source": [
    "class Human:\n",
    "    def __init__():         # this is the by default constructor \n",
    "        pass"
   ]
  },
  {
   "cell_type": "code",
   "execution_count": 26,
   "id": "2ac8e7cf",
   "metadata": {},
   "outputs": [],
   "source": [
    "class Human:\n",
    "    def fun():         #takes one argument by - default but below\n",
    "        print(\"Hello\")\n",
    "    "
   ]
  },
  {
   "cell_type": "code",
   "execution_count": 27,
   "id": "f5af39f8",
   "metadata": {},
   "outputs": [],
   "source": [
    "tanya = Human()"
   ]
  },
  {
   "cell_type": "code",
   "execution_count": 28,
   "id": "0a11e568",
   "metadata": {},
   "outputs": [
    {
     "ename": "TypeError",
     "evalue": "Human.fun() takes 0 positional arguments but 1 was given",
     "output_type": "error",
     "traceback": [
      "\u001b[1;31m---------------------------------------------------------------------------\u001b[0m",
      "\u001b[1;31mTypeError\u001b[0m                                 Traceback (most recent call last)",
      "Cell \u001b[1;32mIn [28], line 1\u001b[0m\n\u001b[1;32m----> 1\u001b[0m \u001b[43mtanya\u001b[49m\u001b[38;5;241;43m.\u001b[39;49m\u001b[43mfun\u001b[49m\u001b[43m(\u001b[49m\u001b[43m)\u001b[49m\n",
      "\u001b[1;31mTypeError\u001b[0m: Human.fun() takes 0 positional arguments but 1 was given"
     ]
    }
   ],
   "source": [
    "tanya.fun()       #gives an error because \"above\" but here no argument is given"
   ]
  },
  {
   "cell_type": "code",
   "execution_count": 29,
   "id": "bd84f66e",
   "metadata": {},
   "outputs": [],
   "source": [
    "class Human:\n",
    "    def fun(something):\n",
    "        print(something)"
   ]
  },
  {
   "cell_type": "code",
   "execution_count": 30,
   "id": "55224e10",
   "metadata": {},
   "outputs": [],
   "source": [
    "tanya = Human()"
   ]
  },
  {
   "cell_type": "code",
   "execution_count": 31,
   "id": "7062607f",
   "metadata": {},
   "outputs": [
    {
     "name": "stdout",
     "output_type": "stream",
     "text": [
      "<__main__.Human object at 0x00000198D6AB65C0>\n"
     ]
    }
   ],
   "source": [
    "tanya.fun()            \n",
    "#that something passed aboved is the object, i.e. tanya here"
   ]
  },
  {
   "cell_type": "code",
   "execution_count": 32,
   "id": "3d4c9f51",
   "metadata": {},
   "outputs": [],
   "source": [
    "class Human:\n",
    "    age = 10\n",
    "    def fun(self):\n",
    "        print(self.age)"
   ]
  },
  {
   "cell_type": "code",
   "execution_count": 33,
   "id": "860a0d94",
   "metadata": {},
   "outputs": [],
   "source": [
    "tanya = Human()"
   ]
  },
  {
   "cell_type": "code",
   "execution_count": 35,
   "id": "e047b175",
   "metadata": {},
   "outputs": [
    {
     "name": "stdout",
     "output_type": "stream",
     "text": [
      "10\n"
     ]
    }
   ],
   "source": [
    "tanya.fun()"
   ]
  },
  {
   "cell_type": "code",
   "execution_count": 37,
   "id": "ae759d33",
   "metadata": {},
   "outputs": [],
   "source": [
    "tanya.age = 22"
   ]
  },
  {
   "cell_type": "code",
   "execution_count": 38,
   "id": "2c9431de",
   "metadata": {},
   "outputs": [
    {
     "data": {
      "text/plain": [
       "22"
      ]
     },
     "execution_count": 38,
     "metadata": {},
     "output_type": "execute_result"
    }
   ],
   "source": [
    "tanya.age   "
   ]
  },
  {
   "cell_type": "code",
   "execution_count": 39,
   "id": "630236cf",
   "metadata": {},
   "outputs": [
    {
     "name": "stdout",
     "output_type": "stream",
     "text": [
      "22\n"
     ]
    }
   ],
   "source": [
    "tanya.fun()   #this is the same as below: ( ) inside this object is passed-tanya"
   ]
  },
  {
   "cell_type": "code",
   "execution_count": 40,
   "id": "57bcc493",
   "metadata": {},
   "outputs": [
    {
     "name": "stdout",
     "output_type": "stream",
     "text": [
      "22\n"
     ]
    }
   ],
   "source": [
    "Human.fun(tanya)"
   ]
  },
  {
   "cell_type": "code",
   "execution_count": 41,
   "id": "eb39b9b7",
   "metadata": {},
   "outputs": [],
   "source": [
    "class Human:\n",
    "    age = 10\n",
    "    def fun(self):\n",
    "        print(age)"
   ]
  },
  {
   "cell_type": "code",
   "execution_count": 42,
   "id": "2a8cec4d",
   "metadata": {},
   "outputs": [],
   "source": [
    "a = Human()"
   ]
  },
  {
   "cell_type": "code",
   "execution_count": 43,
   "id": "edc41dd1",
   "metadata": {},
   "outputs": [
    {
     "ename": "NameError",
     "evalue": "name 'age' is not defined",
     "output_type": "error",
     "traceback": [
      "\u001b[1;31m---------------------------------------------------------------------------\u001b[0m",
      "\u001b[1;31mNameError\u001b[0m                                 Traceback (most recent call last)",
      "Cell \u001b[1;32mIn [43], line 1\u001b[0m\n\u001b[1;32m----> 1\u001b[0m \u001b[43ma\u001b[49m\u001b[38;5;241;43m.\u001b[39;49m\u001b[43mfun\u001b[49m\u001b[43m(\u001b[49m\u001b[43m)\u001b[49m\n",
      "Cell \u001b[1;32mIn [41], line 4\u001b[0m, in \u001b[0;36mHuman.fun\u001b[1;34m(self)\u001b[0m\n\u001b[0;32m      3\u001b[0m \u001b[38;5;28;01mdef\u001b[39;00m \u001b[38;5;21mfun\u001b[39m(\u001b[38;5;28mself\u001b[39m):\n\u001b[1;32m----> 4\u001b[0m     \u001b[38;5;28mprint\u001b[39m(\u001b[43mage\u001b[49m)\n",
      "\u001b[1;31mNameError\u001b[0m: name 'age' is not defined"
     ]
    }
   ],
   "source": [
    "a.fun()           \n",
    "#becuase it does not know whose age it has to print [OR] you can do it like below "
   ]
  },
  {
   "cell_type": "code",
   "execution_count": 44,
   "id": "ade8a501",
   "metadata": {},
   "outputs": [],
   "source": [
    "class Human:\n",
    "    age = 10\n",
    "    def fun(self):\n",
    "        print(Human.age)  \n",
    "#here, i directly put Human class and hence it gives human class age"
   ]
  },
  {
   "cell_type": "code",
   "execution_count": 46,
   "id": "db8af5d1",
   "metadata": {},
   "outputs": [],
   "source": [
    "b = Human()"
   ]
  },
  {
   "cell_type": "code",
   "execution_count": 47,
   "id": "ea65c213",
   "metadata": {},
   "outputs": [
    {
     "name": "stdout",
     "output_type": "stream",
     "text": [
      "10\n"
     ]
    }
   ],
   "source": [
    "b.fun()"
   ]
  },
  {
   "cell_type": "code",
   "execution_count": null,
   "id": "d1feb66c",
   "metadata": {},
   "outputs": [],
   "source": []
  },
  {
   "cell_type": "code",
   "execution_count": 48,
   "id": "0c5ee21e",
   "metadata": {},
   "outputs": [],
   "source": [
    "#to set the values already when defining object\n",
    "# not going to give any default values\n",
    "\n",
    "class Human:\n",
    "    def __init__(self, name, age):\n",
    "        self.name = name\n",
    "        self.age = age\n"
   ]
  },
  {
   "cell_type": "code",
   "execution_count": 49,
   "id": "33497e57",
   "metadata": {},
   "outputs": [],
   "source": [
    "kunal = Human(\"Kunal\", 35)"
   ]
  },
  {
   "cell_type": "code",
   "execution_count": 50,
   "id": "4d7f54d9",
   "metadata": {},
   "outputs": [
    {
     "data": {
      "text/plain": [
       "35"
      ]
     },
     "execution_count": 50,
     "metadata": {},
     "output_type": "execute_result"
    }
   ],
   "source": [
    "kunal.age"
   ]
  },
  {
   "cell_type": "code",
   "execution_count": 51,
   "id": "3f7785c1",
   "metadata": {},
   "outputs": [],
   "source": [
    "apoorv = Human(\"Apoorv\", 30)"
   ]
  },
  {
   "cell_type": "code",
   "execution_count": 52,
   "id": "1db380b4",
   "metadata": {},
   "outputs": [
    {
     "data": {
      "text/plain": [
       "(30, 'Apoorv')"
      ]
     },
     "execution_count": 52,
     "metadata": {},
     "output_type": "execute_result"
    }
   ],
   "source": [
    "apoorv.age, apoorv.name"
   ]
  },
  {
   "cell_type": "code",
   "execution_count": 53,
   "id": "6ecf6190",
   "metadata": {},
   "outputs": [
    {
     "ename": "AttributeError",
     "evalue": "type object 'Human' has no attribute 'age'",
     "output_type": "error",
     "traceback": [
      "\u001b[1;31m---------------------------------------------------------------------------\u001b[0m",
      "\u001b[1;31mAttributeError\u001b[0m                            Traceback (most recent call last)",
      "Cell \u001b[1;32mIn [53], line 1\u001b[0m\n\u001b[1;32m----> 1\u001b[0m \u001b[43mHuman\u001b[49m\u001b[38;5;241;43m.\u001b[39;49m\u001b[43mage\u001b[49m\n",
      "\u001b[1;31mAttributeError\u001b[0m: type object 'Human' has no attribute 'age'"
     ]
    }
   ],
   "source": [
    "Human.age    #error because age variable does not exist in the HUMAN CLASS"
   ]
  },
  {
   "cell_type": "code",
   "execution_count": 54,
   "id": "24c65715",
   "metadata": {},
   "outputs": [],
   "source": [
    "# however we can initialise\n",
    "Human.chacha = \"Hello\""
   ]
  },
  {
   "cell_type": "code",
   "execution_count": 55,
   "id": "686a1591",
   "metadata": {},
   "outputs": [
    {
     "data": {
      "text/plain": [
       "'Hello'"
      ]
     },
     "execution_count": 55,
     "metadata": {},
     "output_type": "execute_result"
    }
   ],
   "source": [
    "kunal.chacha    #can be accesed through objects of that class too"
   ]
  },
  {
   "cell_type": "code",
   "execution_count": 56,
   "id": "92851124",
   "metadata": {},
   "outputs": [],
   "source": [
    "#we can also initialise from outside: BUT WE SHOULD NOT DO THIS\n",
    "kunal.age = 34"
   ]
  },
  {
   "cell_type": "code",
   "execution_count": 57,
   "id": "49a201ec",
   "metadata": {},
   "outputs": [
    {
     "data": {
      "text/plain": [
       "34"
      ]
     },
     "execution_count": 57,
     "metadata": {},
     "output_type": "execute_result"
    }
   ],
   "source": [
    "kunal.age"
   ]
  },
  {
   "cell_type": "code",
   "execution_count": 58,
   "id": "01f2c3e3",
   "metadata": {},
   "outputs": [],
   "source": [
    "# WHY OVERLOADING IS NOT POSSIBLE IN PYTHON? because only the most recently \n",
    "# created i.e, fun(a) function will have a reference and will be considered\n",
    "# the fun() looses it's reference to the previous object, it now points to \n",
    "# object print(a) instead of print(\"hello\")\n",
    "\n",
    "def fun():\n",
    "    print(\"hello\")\n",
    "def fun(a):\n",
    "    print(a)"
   ]
  },
  {
   "cell_type": "code",
   "execution_count": 59,
   "id": "76b91cb8",
   "metadata": {},
   "outputs": [
    {
     "ename": "TypeError",
     "evalue": "fun() missing 1 required positional argument: 'a'",
     "output_type": "error",
     "traceback": [
      "\u001b[1;31m---------------------------------------------------------------------------\u001b[0m",
      "\u001b[1;31mTypeError\u001b[0m                                 Traceback (most recent call last)",
      "Cell \u001b[1;32mIn [59], line 1\u001b[0m\n\u001b[1;32m----> 1\u001b[0m \u001b[43mfun\u001b[49m\u001b[43m(\u001b[49m\u001b[43m)\u001b[49m\n",
      "\u001b[1;31mTypeError\u001b[0m: fun() missing 1 required positional argument: 'a'"
     ]
    }
   ],
   "source": [
    "fun()    "
   ]
  },
  {
   "cell_type": "code",
   "execution_count": 63,
   "id": "4984096c",
   "metadata": {},
   "outputs": [
    {
     "name": "stdout",
     "output_type": "stream",
     "text": [
      "show\n"
     ]
    }
   ],
   "source": [
    "fun(\"show\")"
   ]
  },
  {
   "cell_type": "markdown",
   "id": "5452baa2",
   "metadata": {},
   "source": [
    "STATIC AND INSTANCE VARIABLES\n"
   ]
  },
  {
   "cell_type": "code",
   "execution_count": 72,
   "id": "d9afbb18",
   "metadata": {},
   "outputs": [],
   "source": [
    "class Human:\n",
    "    #static varibles: comon for all objects of that class\n",
    "    \n",
    "    population = 0\n",
    "    \n",
    "    def __init__(self, name, age):\n",
    "        self.age = age\n",
    "        self.name = name\n",
    "        \n",
    "        Human.population += 1\n",
    "        \n",
    "# when a new human comes(i.e everytime new object is created), increase \n",
    "# the population"
   ]
  },
  {
   "cell_type": "code",
   "execution_count": 73,
   "id": "0485c09e",
   "metadata": {},
   "outputs": [
    {
     "data": {
      "text/plain": [
       "0"
      ]
     },
     "execution_count": 73,
     "metadata": {},
     "output_type": "execute_result"
    }
   ],
   "source": [
    "Human.population  # as no object has been made so far"
   ]
  },
  {
   "cell_type": "code",
   "execution_count": 74,
   "id": "9a117ef1",
   "metadata": {},
   "outputs": [],
   "source": [
    "kunal = Human(\"Kunal\", 37)      #first object created"
   ]
  },
  {
   "cell_type": "code",
   "execution_count": 75,
   "id": "456eaed1",
   "metadata": {},
   "outputs": [
    {
     "data": {
      "text/plain": [
       "1"
      ]
     },
     "execution_count": 75,
     "metadata": {},
     "output_type": "execute_result"
    }
   ],
   "source": [
    "kunal.population                #population is 1 now"
   ]
  },
  {
   "cell_type": "code",
   "execution_count": 76,
   "id": "5f3fc9c9",
   "metadata": {},
   "outputs": [],
   "source": [
    "apoorv = Human(\"Apoorv\", 30)    #second object created"
   ]
  },
  {
   "cell_type": "code",
   "execution_count": 77,
   "id": "ce6f2ca7",
   "metadata": {},
   "outputs": [
    {
     "data": {
      "text/plain": [
       "2"
      ]
     },
     "execution_count": 77,
     "metadata": {},
     "output_type": "execute_result"
    }
   ],
   "source": [
    "kunal.population                #population is 2 now"
   ]
  },
  {
   "cell_type": "code",
   "execution_count": 78,
   "id": "4bcd97fa",
   "metadata": {},
   "outputs": [],
   "source": [
    "kunal.population +=1            #increased just kunal's population\n",
    "                                #HOWEVER, STATIC VARIABLES SHOULD NOT \n",
    "                                #BE ACCESSED VIA OBJECTS"
   ]
  },
  {
   "cell_type": "markdown",
   "id": "e8f935a1",
   "metadata": {},
   "source": [
    "the above line is: kunal.population = kunal.population + 1  \n",
    "\n",
    "# it takes the class's static variable- population's present value, add 1 to it and assigns it to kunal.population. Therefore, initialising a population variable specific to kunal object !"
   ]
  },
  {
   "cell_type": "code",
   "execution_count": 79,
   "id": "079b62a3",
   "metadata": {},
   "outputs": [
    {
     "data": {
      "text/plain": [
       "(3, 2, 2)"
      ]
     },
     "execution_count": 79,
     "metadata": {},
     "output_type": "execute_result"
    }
   ],
   "source": [
    "kunal.population, apoorv.population, Human.population"
   ]
  },
  {
   "cell_type": "code",
   "execution_count": null,
   "id": "f94d5903",
   "metadata": {},
   "outputs": [],
   "source": [
    "#for above, when i separate any values with comma, PYTHON treats it as a tuple"
   ]
  },
  {
   "cell_type": "code",
   "execution_count": 80,
   "id": "39846df4",
   "metadata": {},
   "outputs": [],
   "source": [
    "rahul = Human(\"Rahul\", 28)"
   ]
  },
  {
   "cell_type": "code",
   "execution_count": 81,
   "id": "b74ca025",
   "metadata": {},
   "outputs": [
    {
     "data": {
      "text/plain": [
       "(3, 3, 3, 3)"
      ]
     },
     "execution_count": 81,
     "metadata": {},
     "output_type": "execute_result"
    }
   ],
   "source": [
    "kunal.population, apoorv.population, Human.population, rahul.population"
   ]
  },
  {
   "cell_type": "code",
   "execution_count": 82,
   "id": "4088fccb",
   "metadata": {},
   "outputs": [],
   "source": [
    "Human.population += 1"
   ]
  },
  {
   "cell_type": "code",
   "execution_count": 83,
   "id": "0c7d103e",
   "metadata": {},
   "outputs": [
    {
     "data": {
      "text/plain": [
       "(3, 4, 4, 4)"
      ]
     },
     "execution_count": 83,
     "metadata": {},
     "output_type": "execute_result"
    }
   ],
   "source": [
    "kunal.population, apoorv.population, Human.population, rahul.population"
   ]
  },
  {
   "cell_type": "code",
   "execution_count": 85,
   "id": "649896f1",
   "metadata": {},
   "outputs": [],
   "source": [
    "#STATIC MENTHOD - USES A DECORATOR - @staticmethod\n",
    "\n",
    "class Human:\n",
    "    \n",
    "    population = 0\n",
    "    \n",
    "    def __init__(self, name, age):\n",
    "        self.age = age\n",
    "        self.name = name\n",
    "        \n",
    "        Human.population += 1\n",
    "        \n",
    "    @staticmethod               # ----------> this is a decorator \n",
    "    def fun():                  # self is not passed because it is static\n",
    "        print(Human.population)\n",
    "        \n"
   ]
  },
  {
   "cell_type": "code",
   "execution_count": 86,
   "id": "7eece4f7",
   "metadata": {},
   "outputs": [],
   "source": [
    "kunal = Human(\"Kunal\", 36)\n",
    "rahul= Human(\"Rahul\", 45)"
   ]
  },
  {
   "cell_type": "code",
   "execution_count": 87,
   "id": "9b3d1b98",
   "metadata": {},
   "outputs": [
    {
     "name": "stdout",
     "output_type": "stream",
     "text": [
      "2\n"
     ]
    }
   ],
   "source": [
    "kunal.fun()                      #self is not passed "
   ]
  },
  {
   "cell_type": "code",
   "execution_count": 97,
   "id": "191ff22e",
   "metadata": {},
   "outputs": [],
   "source": [
    "#class method taked class name only \n",
    "\n",
    "class Human:\n",
    "    \n",
    "    population = 0\n",
    "    \n",
    "    def __init__(self, name, age):\n",
    "        self.age = age\n",
    "        self.name = name\n",
    "        \n",
    "        Human.population += 1\n",
    "        \n",
    "    @staticmethod               \n",
    "    def fun():                  # self is not passed because it is static\n",
    "        print(Human.population)\n",
    "        \n",
    "    def getName(self):\n",
    "        print(self.name)\n",
    "        \n",
    "    @classmethod               #decorator to assign class method \n",
    "    def atomBomb(cls):\n",
    "        cls.population = 0\n",
    "        \n",
    "    @classmethod              # can also be used to create a new object\n",
    "    def fromString(cls, name, age):\n",
    "        return cls(name, age)  #constructor is being called here"
   ]
  },
  {
   "cell_type": "code",
   "execution_count": 98,
   "id": "05d9a9f2",
   "metadata": {},
   "outputs": [],
   "source": [
    "kunal = Human(\"Kunal\", 36)\n",
    "rahul= Human(\"Rahul\", 45)"
   ]
  },
  {
   "cell_type": "code",
   "execution_count": 99,
   "id": "ca122470",
   "metadata": {},
   "outputs": [
    {
     "name": "stdout",
     "output_type": "stream",
     "text": [
      "2\n"
     ]
    }
   ],
   "source": [
    "kunal.fun()"
   ]
  },
  {
   "cell_type": "code",
   "execution_count": 100,
   "id": "78b78928",
   "metadata": {},
   "outputs": [
    {
     "name": "stdout",
     "output_type": "stream",
     "text": [
      "Rahul\n"
     ]
    }
   ],
   "source": [
    "rahul.getName()"
   ]
  },
  {
   "cell_type": "code",
   "execution_count": 101,
   "id": "d6bd548f",
   "metadata": {},
   "outputs": [],
   "source": [
    "kunal.atomBomb()    #this passes class name-- so class's name variable is passed"
   ]
  },
  {
   "cell_type": "code",
   "execution_count": 102,
   "id": "17c62950",
   "metadata": {},
   "outputs": [
    {
     "data": {
      "text/plain": [
       "0"
      ]
     },
     "execution_count": 102,
     "metadata": {},
     "output_type": "execute_result"
    }
   ],
   "source": [
    "kunal.population"
   ]
  },
  {
   "cell_type": "code",
   "execution_count": 103,
   "id": "052590f3",
   "metadata": {},
   "outputs": [],
   "source": [
    "apoorv = Human.fromString(\"Apoorv\", 56)   "
   ]
  },
  {
   "cell_type": "code",
   "execution_count": 104,
   "id": "2afa245c",
   "metadata": {},
   "outputs": [
    {
     "data": {
      "text/plain": [
       "1"
      ]
     },
     "execution_count": 104,
     "metadata": {},
     "output_type": "execute_result"
    }
   ],
   "source": [
    "apoorv.population"
   ]
  },
  {
   "cell_type": "markdown",
   "id": "ea562fb2",
   "metadata": {},
   "source": [
    "# Inheritance"
   ]
  },
  {
   "cell_type": "code",
   "execution_count": 112,
   "id": "3b6b8a70",
   "metadata": {},
   "outputs": [],
   "source": [
    "class Parent:\n",
    "    f = 80\n",
    "    def __init__(self, value):\n",
    "        self.value = value\n",
    "        "
   ]
  },
  {
   "cell_type": "code",
   "execution_count": 113,
   "id": "ec9c7556",
   "metadata": {},
   "outputs": [],
   "source": [
    "class Child(Parent):\n",
    "    def __init__(self, value):  \n",
    "        super().__init__(value)           #calling parent class constructor\n",
    "                 "
   ]
  },
  {
   "cell_type": "code",
   "execution_count": 114,
   "id": "639eb666",
   "metadata": {},
   "outputs": [],
   "source": [
    "obj = Child(67)"
   ]
  },
  {
   "cell_type": "code",
   "execution_count": 115,
   "id": "54db1c86",
   "metadata": {},
   "outputs": [
    {
     "data": {
      "text/plain": [
       "80"
      ]
     },
     "execution_count": 115,
     "metadata": {},
     "output_type": "execute_result"
    }
   ],
   "source": [
    "obj.f"
   ]
  },
  {
   "cell_type": "code",
   "execution_count": 116,
   "id": "ca7f9280",
   "metadata": {},
   "outputs": [
    {
     "data": {
      "text/plain": [
       "67"
      ]
     },
     "execution_count": 116,
     "metadata": {},
     "output_type": "execute_result"
    }
   ],
   "source": [
    "obj.value"
   ]
  },
  {
   "cell_type": "code",
   "execution_count": 117,
   "id": "adf6654d",
   "metadata": {},
   "outputs": [
    {
     "ename": "AttributeError",
     "evalue": "type object 'Parent' has no attribute 'value'",
     "output_type": "error",
     "traceback": [
      "\u001b[1;31m---------------------------------------------------------------------------\u001b[0m",
      "\u001b[1;31mAttributeError\u001b[0m                            Traceback (most recent call last)",
      "Cell \u001b[1;32mIn [117], line 1\u001b[0m\n\u001b[1;32m----> 1\u001b[0m \u001b[43mParent\u001b[49m\u001b[38;5;241;43m.\u001b[39;49m\u001b[43mvalue\u001b[49m\n",
      "\u001b[1;31mAttributeError\u001b[0m: type object 'Parent' has no attribute 'value'"
     ]
    }
   ],
   "source": [
    "Parent.value"
   ]
  },
  {
   "cell_type": "code",
   "execution_count": 118,
   "id": "5d2d681f",
   "metadata": {},
   "outputs": [],
   "source": [
    "obj2 = Parent(87)   #objecy of Parent class"
   ]
  },
  {
   "cell_type": "code",
   "execution_count": 119,
   "id": "34cb1ca2",
   "metadata": {},
   "outputs": [
    {
     "data": {
      "text/plain": [
       "87"
      ]
     },
     "execution_count": 119,
     "metadata": {},
     "output_type": "execute_result"
    }
   ],
   "source": [
    "obj2.value"
   ]
  },
  {
   "cell_type": "code",
   "execution_count": 120,
   "id": "fec118ae",
   "metadata": {},
   "outputs": [
    {
     "ename": "AttributeError",
     "evalue": "type object 'Child' has no attribute 'value'",
     "output_type": "error",
     "traceback": [
      "\u001b[1;31m---------------------------------------------------------------------------\u001b[0m",
      "\u001b[1;31mAttributeError\u001b[0m                            Traceback (most recent call last)",
      "Cell \u001b[1;32mIn [120], line 1\u001b[0m\n\u001b[1;32m----> 1\u001b[0m \u001b[43mChild\u001b[49m\u001b[38;5;241;43m.\u001b[39;49m\u001b[43mvalue\u001b[49m\n",
      "\u001b[1;31mAttributeError\u001b[0m: type object 'Child' has no attribute 'value'"
     ]
    }
   ],
   "source": [
    "Child.value"
   ]
  },
  {
   "cell_type": "code",
   "execution_count": null,
   "id": "2ea3c479",
   "metadata": {},
   "outputs": [],
   "source": [
    "# how to make a private variable, method in Python"
   ]
  },
  {
   "cell_type": "code",
   "execution_count": 121,
   "id": "78c99ea9",
   "metadata": {},
   "outputs": [],
   "source": [
    "class A:\n",
    "    def __init__(self, value):\n",
    "        self.__value = value\n",
    "#python changes it to _A__value hence making the __value inaccesible & private"
   ]
  },
  {
   "cell_type": "code",
   "execution_count": 122,
   "id": "9a2e4c46",
   "metadata": {},
   "outputs": [],
   "source": [
    "obj = A(89)"
   ]
  },
  {
   "cell_type": "code",
   "execution_count": 123,
   "id": "a128f12b",
   "metadata": {},
   "outputs": [
    {
     "ename": "AttributeError",
     "evalue": "'A' object has no attribute '__value'",
     "output_type": "error",
     "traceback": [
      "\u001b[1;31m---------------------------------------------------------------------------\u001b[0m",
      "\u001b[1;31mAttributeError\u001b[0m                            Traceback (most recent call last)",
      "Cell \u001b[1;32mIn [123], line 1\u001b[0m\n\u001b[1;32m----> 1\u001b[0m \u001b[43mobj\u001b[49m\u001b[38;5;241;43m.\u001b[39;49m\u001b[43m__value\u001b[49m\n",
      "\u001b[1;31mAttributeError\u001b[0m: 'A' object has no attribute '__value'"
     ]
    }
   ],
   "source": [
    "obj.__value"
   ]
  },
  {
   "cell_type": "code",
   "execution_count": 124,
   "id": "c00a5997",
   "metadata": {},
   "outputs": [
    {
     "data": {
      "text/plain": [
       "89"
      ]
     },
     "execution_count": 124,
     "metadata": {},
     "output_type": "execute_result"
    }
   ],
   "source": [
    "obj._A__value   # therefore not really private: HACK!"
   ]
  },
  {
   "cell_type": "code",
   "execution_count": null,
   "id": "0ce616a3",
   "metadata": {},
   "outputs": [],
   "source": [
    "_value          # for protected use 1 underscore"
   ]
  },
  {
   "cell_type": "code",
   "execution_count": null,
   "id": "0c32fa07",
   "metadata": {},
   "outputs": [],
   "source": []
  }
 ],
 "metadata": {
  "kernelspec": {
   "display_name": "Python 3 (ipykernel)",
   "language": "python",
   "name": "python3"
  },
  "language_info": {
   "codemirror_mode": {
    "name": "ipython",
    "version": 3
   },
   "file_extension": ".py",
   "mimetype": "text/x-python",
   "name": "python",
   "nbconvert_exporter": "python",
   "pygments_lexer": "ipython3",
   "version": "3.10.7"
  }
 },
 "nbformat": 4,
 "nbformat_minor": 5
}
