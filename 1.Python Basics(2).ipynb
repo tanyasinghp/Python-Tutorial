{
 "cells": [
  {
   "cell_type": "code",
   "execution_count": 1,
   "id": "9f239bee",
   "metadata": {},
   "outputs": [],
   "source": [
    "a = 10"
   ]
  },
  {
   "cell_type": "code",
   "execution_count": 2,
   "id": "2db4b69b",
   "metadata": {},
   "outputs": [
    {
     "data": {
      "text/plain": [
       "10"
      ]
     },
     "execution_count": 2,
     "metadata": {},
     "output_type": "execute_result"
    }
   ],
   "source": [
    "a"
   ]
  },
  {
   "cell_type": "code",
   "execution_count": 3,
   "id": "caffc02b",
   "metadata": {},
   "outputs": [
    {
     "name": "stdout",
     "output_type": "stream",
     "text": [
      "a is 10\n"
     ]
    }
   ],
   "source": [
    "if a == 10:\n",
    "    print(\"a is 10\")"
   ]
  },
  {
   "cell_type": "code",
   "execution_count": 4,
   "id": "04629898",
   "metadata": {},
   "outputs": [
    {
     "name": "stdout",
     "output_type": "stream",
     "text": [
      "must print a\n"
     ]
    }
   ],
   "source": [
    "if a:  \n",
    "    print(\"must print a\")"
   ]
  },
  {
   "cell_type": "code",
   "execution_count": 5,
   "id": "eb2b63b2",
   "metadata": {},
   "outputs": [
    {
     "name": "stdout",
     "output_type": "stream",
     "text": [
      "hi\n"
     ]
    }
   ],
   "source": [
    "if a:               # \"0\" BY DEAFULT IN PYTHON IS FALSE \n",
    "    print(\"hi\")"
   ]
  },
  {
   "cell_type": "code",
   "execution_count": 10,
   "id": "e1d9b1f1",
   "metadata": {},
   "outputs": [],
   "source": [
    "a =0"
   ]
  },
  {
   "cell_type": "code",
   "execution_count": 11,
   "id": "e7d3abde",
   "metadata": {},
   "outputs": [],
   "source": [
    "if a:\n",
    "    print(\"value of a\")"
   ]
  },
  {
   "cell_type": "code",
   "execution_count": 6,
   "id": "29311797",
   "metadata": {},
   "outputs": [
    {
     "name": "stdout",
     "output_type": "stream",
     "text": [
      "hi\n"
     ]
    }
   ],
   "source": [
    "if -1:              # Negative mein TRUE\n",
    "    print(\"hi\")"
   ]
  },
  {
   "cell_type": "code",
   "execution_count": 8,
   "id": "82e173d3",
   "metadata": {},
   "outputs": [],
   "source": [
    "b = 30"
   ]
  },
  {
   "cell_type": "code",
   "execution_count": 9,
   "id": "db9ff812",
   "metadata": {},
   "outputs": [
    {
     "name": "stdout",
     "output_type": "stream",
     "text": [
      "done\n"
     ]
    }
   ],
   "source": [
    "if b == 30:     #Unlike other langs where {} starts block, here : starts block\n",
    "    print(\"done\")"
   ]
  },
  {
   "cell_type": "code",
   "execution_count": 12,
   "id": "160899ba",
   "metadata": {},
   "outputs": [
    {
     "name": "stdout",
     "output_type": "stream",
     "text": [
      "print here\n"
     ]
    }
   ],
   "source": [
    "if [23]:\n",
    "    print(\"print here\")"
   ]
  },
  {
   "cell_type": "code",
   "execution_count": 13,
   "id": "1b5ada0b",
   "metadata": {},
   "outputs": [],
   "source": [
    "if []:\n",
    "    print(\"print here\")"
   ]
  },
  {
   "cell_type": "markdown",
   "id": "90ab6010",
   "metadata": {},
   "source": [
    "LOOPS"
   ]
  },
  {
   "cell_type": "code",
   "execution_count": 14,
   "id": "ebe83d87",
   "metadata": {},
   "outputs": [],
   "source": [
    "a = [1,2,3]"
   ]
  },
  {
   "cell_type": "code",
   "execution_count": 19,
   "id": "fe082ac4",
   "metadata": {},
   "outputs": [
    {
     "name": "stdout",
     "output_type": "stream",
     "text": [
      "1\n",
      "2\n",
      "3\n"
     ]
    }
   ],
   "source": [
    "for num in a:\n",
    "    print(num)         # num is a variable: variable can be anything"
   ]
  },
  {
   "cell_type": "code",
   "execution_count": 18,
   "id": "c3c9d96d",
   "metadata": {},
   "outputs": [
    {
     "name": "stdout",
     "output_type": "stream",
     "text": [
      "t\n",
      "a\n",
      "n\n",
      "y\n",
      "a\n"
     ]
    }
   ],
   "source": [
    "s = 'tanya'\n",
    "for ch in s:\n",
    "    print(ch)         # ch is a variable: variable can be anything"
   ]
  },
  {
   "cell_type": "code",
   "execution_count": 20,
   "id": "cb984bf7",
   "metadata": {},
   "outputs": [],
   "source": [
    "#using index in for loops \n",
    "\n",
    "a= [43, 56, 78]"
   ]
  },
  {
   "cell_type": "code",
   "execution_count": 22,
   "id": "0d84c53d",
   "metadata": {},
   "outputs": [
    {
     "name": "stdout",
     "output_type": "stream",
     "text": [
      "0 43\n",
      "1 56\n",
      "2 78\n"
     ]
    }
   ],
   "source": [
    "for index, ch in enumerate(a):     #using ENUMERATE\n",
    "    print(index, ch)"
   ]
  },
  {
   "cell_type": "code",
   "execution_count": null,
   "id": "c6eed5eb",
   "metadata": {},
   "outputs": [],
   "source": [
    "WHILE LOOPS"
   ]
  },
  {
   "cell_type": "code",
   "execution_count": 28,
   "id": "9e7a9146",
   "metadata": {},
   "outputs": [],
   "source": [
    "a= 5"
   ]
  },
  {
   "cell_type": "code",
   "execution_count": 29,
   "id": "5252daf4",
   "metadata": {},
   "outputs": [
    {
     "name": "stdout",
     "output_type": "stream",
     "text": [
      "5\n",
      "4\n",
      "3\n",
      "2\n",
      "1\n"
     ]
    }
   ],
   "source": [
    "while a>0:\n",
    "    print(a)\n",
    "    a= a-1"
   ]
  },
  {
   "cell_type": "markdown",
   "id": "d759c955",
   "metadata": {},
   "source": [
    "range funtion in for loop"
   ]
  },
  {
   "cell_type": "code",
   "execution_count": 30,
   "id": "09b14915",
   "metadata": {},
   "outputs": [],
   "source": [
    "a = range(1, 10, 2)"
   ]
  },
  {
   "cell_type": "code",
   "execution_count": 31,
   "id": "da30ec24",
   "metadata": {},
   "outputs": [
    {
     "data": {
      "text/plain": [
       "range(1, 10, 2)"
      ]
     },
     "execution_count": 31,
     "metadata": {},
     "output_type": "execute_result"
    }
   ],
   "source": [
    "a                     #creates an object of list type"
   ]
  },
  {
   "cell_type": "code",
   "execution_count": 32,
   "id": "7f03f4b7",
   "metadata": {},
   "outputs": [],
   "source": [
    "a = list(range(1, 10, 2))  \n",
    "#starts from 1(including):till exludes 10: steps-skips "
   ]
  },
  {
   "cell_type": "code",
   "execution_count": 33,
   "id": "72e07f54",
   "metadata": {},
   "outputs": [
    {
     "data": {
      "text/plain": [
       "[1, 3, 5, 7, 9]"
      ]
     },
     "execution_count": 33,
     "metadata": {},
     "output_type": "execute_result"
    }
   ],
   "source": [
    "a"
   ]
  },
  {
   "cell_type": "code",
   "execution_count": 34,
   "id": "d3972ba9",
   "metadata": {},
   "outputs": [],
   "source": [
    "#print 1st 5 natural numbers : LIST\n",
    "a = list(range(1,6))"
   ]
  },
  {
   "cell_type": "code",
   "execution_count": 35,
   "id": "c6b7b61c",
   "metadata": {},
   "outputs": [
    {
     "data": {
      "text/plain": [
       "[1, 2, 3, 4, 5]"
      ]
     },
     "execution_count": 35,
     "metadata": {},
     "output_type": "execute_result"
    }
   ],
   "source": [
    "a"
   ]
  },
  {
   "cell_type": "code",
   "execution_count": 36,
   "id": "fa7a5a3b",
   "metadata": {},
   "outputs": [
    {
     "name": "stdout",
     "output_type": "stream",
     "text": [
      "1\n",
      "2\n",
      "3\n",
      "4\n",
      "5\n"
     ]
    }
   ],
   "source": [
    "#print 1st 5 natural numbers : NUMBERS\n",
    "for i in range(1,6):\n",
    "    print(i)"
   ]
  },
  {
   "cell_type": "code",
   "execution_count": 40,
   "id": "2584eaca",
   "metadata": {},
   "outputs": [],
   "source": [
    "#list of 1st 10 natural number\n",
    "\n",
    "b=[i for i in range(1, 11)]"
   ]
  },
  {
   "cell_type": "code",
   "execution_count": 41,
   "id": "a1a80f4e",
   "metadata": {},
   "outputs": [
    {
     "data": {
      "text/plain": [
       "[1, 2, 3, 4, 5, 6, 7, 8, 9, 10]"
      ]
     },
     "execution_count": 41,
     "metadata": {},
     "output_type": "execute_result"
    }
   ],
   "source": [
    "b"
   ]
  },
  {
   "cell_type": "code",
   "execution_count": 37,
   "id": "07fd50f8",
   "metadata": {},
   "outputs": [],
   "source": [
    "# 2 TABLE \n",
    "t = [2*i for i in range(1,11)]"
   ]
  },
  {
   "cell_type": "code",
   "execution_count": 38,
   "id": "a379da31",
   "metadata": {},
   "outputs": [
    {
     "data": {
      "text/plain": [
       "[2, 4, 6, 8, 10, 12, 14, 16, 18, 20]"
      ]
     },
     "execution_count": 38,
     "metadata": {},
     "output_type": "execute_result"
    }
   ],
   "source": [
    "t"
   ]
  },
  {
   "cell_type": "code",
   "execution_count": null,
   "id": "514ddf91",
   "metadata": {},
   "outputs": [],
   "source": [
    "2-D LISTS"
   ]
  },
  {
   "cell_type": "code",
   "execution_count": 48,
   "id": "799046dc",
   "metadata": {},
   "outputs": [],
   "source": [
    "a = [[1,2], [3,4]]"
   ]
  },
  {
   "cell_type": "code",
   "execution_count": 49,
   "id": "b416c900",
   "metadata": {},
   "outputs": [
    {
     "data": {
      "text/plain": [
       "[1, 2]"
      ]
     },
     "execution_count": 49,
     "metadata": {},
     "output_type": "execute_result"
    }
   ],
   "source": [
    "a[0]"
   ]
  },
  {
   "cell_type": "code",
   "execution_count": 50,
   "id": "931ebec9",
   "metadata": {},
   "outputs": [
    {
     "data": {
      "text/plain": [
       "2"
      ]
     },
     "execution_count": 50,
     "metadata": {},
     "output_type": "execute_result"
    }
   ],
   "source": [
    "len(a)                 #no. of columns in row 0 "
   ]
  },
  {
   "cell_type": "code",
   "execution_count": 51,
   "id": "9f52590e",
   "metadata": {},
   "outputs": [
    {
     "name": "stdout",
     "output_type": "stream",
     "text": [
      "1\n",
      "2\n",
      "3\n",
      "4\n"
     ]
    }
   ],
   "source": [
    "#to iterate over it manually \n",
    "for i in range(0, len(a)):\n",
    "    for j in range(0, len(a)):\n",
    "        print(a[i][j])"
   ]
  },
  {
   "cell_type": "code",
   "execution_count": 54,
   "id": "2982bccb",
   "metadata": {},
   "outputs": [
    {
     "name": "stdout",
     "output_type": "stream",
     "text": [
      "1 2 3 4 "
     ]
    }
   ],
   "source": [
    "for i in range(0, len(a)):\n",
    "    for j in range(0, len(a)):      \n",
    "        print(a[i][j], end = \" \")\n",
    "        \n",
    "# end = \" \" will make sure that after printing each element instead of ending\n",
    "# with a new line, it will end with a space \" \"\n"
   ]
  },
  {
   "cell_type": "code",
   "execution_count": 55,
   "id": "593b401a",
   "metadata": {},
   "outputs": [
    {
     "name": "stdout",
     "output_type": "stream",
     "text": [
      "1 2 \n",
      "3 4 \n"
     ]
    }
   ],
   "source": [
    "for i in range(0, len(a)):\n",
    "    for j in range(0, len(a)):      \n",
    "        print(a[i][j], end = \" \")\n",
    "    print()"
   ]
  },
  {
   "cell_type": "code",
   "execution_count": null,
   "id": "5db99c49",
   "metadata": {},
   "outputs": [],
   "source": [
    "n - dimensions : uses numpy library"
   ]
  },
  {
   "cell_type": "code",
   "execution_count": 57,
   "id": "68777887",
   "metadata": {},
   "outputs": [],
   "source": [
    "#table of 3\n",
    "n =3\n",
    "a = [i*n for i in range (1,11)]"
   ]
  },
  {
   "cell_type": "code",
   "execution_count": 58,
   "id": "fbf3793f",
   "metadata": {},
   "outputs": [
    {
     "data": {
      "text/plain": [
       "[3, 6, 9, 12, 15, 18, 21, 24, 27, 30]"
      ]
     },
     "execution_count": 58,
     "metadata": {},
     "output_type": "execute_result"
    }
   ],
   "source": [
    "a"
   ]
  },
  {
   "cell_type": "code",
   "execution_count": 61,
   "id": "fbb989d7",
   "metadata": {},
   "outputs": [],
   "source": [
    "a = [[i * n for i in range(1,11)] for n in range(1,11)]"
   ]
  },
  {
   "cell_type": "code",
   "execution_count": 62,
   "id": "b51b39da",
   "metadata": {},
   "outputs": [
    {
     "data": {
      "text/plain": [
       "[[1, 2, 3, 4, 5, 6, 7, 8, 9, 10],\n",
       " [2, 4, 6, 8, 10, 12, 14, 16, 18, 20],\n",
       " [3, 6, 9, 12, 15, 18, 21, 24, 27, 30],\n",
       " [4, 8, 12, 16, 20, 24, 28, 32, 36, 40],\n",
       " [5, 10, 15, 20, 25, 30, 35, 40, 45, 50],\n",
       " [6, 12, 18, 24, 30, 36, 42, 48, 54, 60],\n",
       " [7, 14, 21, 28, 35, 42, 49, 56, 63, 70],\n",
       " [8, 16, 24, 32, 40, 48, 56, 64, 72, 80],\n",
       " [9, 18, 27, 36, 45, 54, 63, 72, 81, 90],\n",
       " [10, 20, 30, 40, 50, 60, 70, 80, 90, 100]]"
      ]
     },
     "execution_count": 62,
     "metadata": {},
     "output_type": "execute_result"
    }
   ],
   "source": [
    "a"
   ]
  },
  {
   "cell_type": "code",
   "execution_count": null,
   "id": "c6a25f91",
   "metadata": {},
   "outputs": [],
   "source": []
  },
  {
   "cell_type": "code",
   "execution_count": 59,
   "id": "a7458435",
   "metadata": {},
   "outputs": [],
   "source": [
    "d = [[n*i for i in range(1,11)] for n in range(1,21)]"
   ]
  },
  {
   "cell_type": "code",
   "execution_count": 60,
   "id": "b550a779",
   "metadata": {},
   "outputs": [
    {
     "data": {
      "text/plain": [
       "[[1, 2, 3, 4, 5, 6, 7, 8, 9, 10],\n",
       " [2, 4, 6, 8, 10, 12, 14, 16, 18, 20],\n",
       " [3, 6, 9, 12, 15, 18, 21, 24, 27, 30],\n",
       " [4, 8, 12, 16, 20, 24, 28, 32, 36, 40],\n",
       " [5, 10, 15, 20, 25, 30, 35, 40, 45, 50],\n",
       " [6, 12, 18, 24, 30, 36, 42, 48, 54, 60],\n",
       " [7, 14, 21, 28, 35, 42, 49, 56, 63, 70],\n",
       " [8, 16, 24, 32, 40, 48, 56, 64, 72, 80],\n",
       " [9, 18, 27, 36, 45, 54, 63, 72, 81, 90],\n",
       " [10, 20, 30, 40, 50, 60, 70, 80, 90, 100],\n",
       " [11, 22, 33, 44, 55, 66, 77, 88, 99, 110],\n",
       " [12, 24, 36, 48, 60, 72, 84, 96, 108, 120],\n",
       " [13, 26, 39, 52, 65, 78, 91, 104, 117, 130],\n",
       " [14, 28, 42, 56, 70, 84, 98, 112, 126, 140],\n",
       " [15, 30, 45, 60, 75, 90, 105, 120, 135, 150],\n",
       " [16, 32, 48, 64, 80, 96, 112, 128, 144, 160],\n",
       " [17, 34, 51, 68, 85, 102, 119, 136, 153, 170],\n",
       " [18, 36, 54, 72, 90, 108, 126, 144, 162, 180],\n",
       " [19, 38, 57, 76, 95, 114, 133, 152, 171, 190],\n",
       " [20, 40, 60, 80, 100, 120, 140, 160, 180, 200]]"
      ]
     },
     "execution_count": 60,
     "metadata": {},
     "output_type": "execute_result"
    }
   ],
   "source": [
    "d"
   ]
  },
  {
   "cell_type": "code",
   "execution_count": 63,
   "id": "724d072d",
   "metadata": {},
   "outputs": [],
   "source": [
    "a = list(range(1,11))"
   ]
  },
  {
   "cell_type": "code",
   "execution_count": 65,
   "id": "fea195a0",
   "metadata": {},
   "outputs": [
    {
     "name": "stdout",
     "output_type": "stream",
     "text": [
      "1 2 3 4 5 6 "
     ]
    }
   ],
   "source": [
    "for i in a:\n",
    "    print(i, end = \" \")\n",
    "    if i == 6:\n",
    "        break\n",
    "    "
   ]
  },
  {
   "cell_type": "code",
   "execution_count": 67,
   "id": "45e24f42",
   "metadata": {},
   "outputs": [
    {
     "name": "stdout",
     "output_type": "stream",
     "text": [
      "1 2 3 4 5 "
     ]
    }
   ],
   "source": [
    "for i in a:\n",
    "    if i == 6:\n",
    "        break\n",
    "    print(i, end = \" \")"
   ]
  },
  {
   "cell_type": "code",
   "execution_count": 68,
   "id": "ece1bf03",
   "metadata": {},
   "outputs": [
    {
     "name": "stdout",
     "output_type": "stream",
     "text": [
      "1 2 3 4 5 7 8 9 10 "
     ]
    }
   ],
   "source": [
    "for i in a:\n",
    "    if i == 6:\n",
    "        continue            # it skipped 6\n",
    "    print(i, end = \" \")"
   ]
  },
  {
   "cell_type": "code",
   "execution_count": null,
   "id": "61555d11",
   "metadata": {},
   "outputs": [],
   "source": [
    "ELSE CLAUSES IN FOR-LOOP"
   ]
  },
  {
   "cell_type": "code",
   "execution_count": 70,
   "id": "e89cf2b3",
   "metadata": {},
   "outputs": [
    {
     "name": "stdout",
     "output_type": "stream",
     "text": [
      "1 2 3 4 5 6 7 8 9 10 for/else statement hit\n"
     ]
    }
   ],
   "source": [
    "for i in a:\n",
    "    print(i, end = \" \")\n",
    "#     if i == 6:          if the break is not used it also executes else statement\n",
    "#         break\n",
    "else:\n",
    "    print(\"for/else statement hit\")"
   ]
  },
  {
   "cell_type": "code",
   "execution_count": 71,
   "id": "67f3644e",
   "metadata": {},
   "outputs": [
    {
     "name": "stdout",
     "output_type": "stream",
     "text": [
      "1 2 3 4 5 6 "
     ]
    }
   ],
   "source": [
    "for i in a:\n",
    "    print(i, end = \" \")\n",
    "    if i == 6:\n",
    "        break\n",
    "else:\n",
    "    print(\"for/else statement hit\")"
   ]
  },
  {
   "cell_type": "code",
   "execution_count": 72,
   "id": "91fb38f8",
   "metadata": {},
   "outputs": [
    {
     "name": "stdout",
     "output_type": "stream",
     "text": [
      "Found the first even number: 6\n"
     ]
    }
   ],
   "source": [
    "numbers = [1, 3, 5, 6, 7, 9, 10, 11]\n",
    "\n",
    "for num in numbers:\n",
    "    if num % 2 == 0:\n",
    "        print(\"Found the first even number:\", num)\n",
    "        break"
   ]
  },
  {
   "cell_type": "markdown",
   "id": "6f3dda43",
   "metadata": {},
   "source": [
    "therefore only the first number found is printed, cause break statement is applied after that!"
   ]
  },
  {
   "cell_type": "code",
   "execution_count": 73,
   "id": "fc6e9c3a",
   "metadata": {},
   "outputs": [
    {
     "name": "stdout",
     "output_type": "stream",
     "text": [
      "1 2 "
     ]
    }
   ],
   "source": [
    "nums = [1,2,3,4,5,6,7,8,9]\n",
    "count = 0\n",
    "for i in nums:\n",
    "    if num % 2 == 0:\n",
    "        print(i, end = \" \")\n",
    "        count = count + 1\n",
    "        \n",
    "    if count == 2:\n",
    "        break\n",
    "    "
   ]
  },
  {
   "cell_type": "code",
   "execution_count": null,
   "id": "b203b96b",
   "metadata": {},
   "outputs": [],
   "source": []
  }
 ],
 "metadata": {
  "kernelspec": {
   "display_name": "Python 3 (ipykernel)",
   "language": "python",
   "name": "python3"
  },
  "language_info": {
   "codemirror_mode": {
    "name": "ipython",
    "version": 3
   },
   "file_extension": ".py",
   "mimetype": "text/x-python",
   "name": "python",
   "nbconvert_exporter": "python",
   "pygments_lexer": "ipython3",
   "version": "3.10.7"
  }
 },
 "nbformat": 4,
 "nbformat_minor": 5
}
