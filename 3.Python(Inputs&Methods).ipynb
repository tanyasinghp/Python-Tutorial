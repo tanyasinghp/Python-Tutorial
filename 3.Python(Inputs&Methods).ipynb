{
 "cells": [
  {
   "cell_type": "markdown",
   "id": "f87896e3",
   "metadata": {},
   "source": [
    "INPUTs\n",
    "Python takes input by-default as a STRING\n",
    "input() lets user give input from the standard stream I.E KEYBOARD\n",
    "\n",
    "\n"
   ]
  },
  {
   "cell_type": "code",
   "execution_count": 1,
   "id": "d931186c",
   "metadata": {},
   "outputs": [
    {
     "name": "stdout",
     "output_type": "stream",
     "text": [
      "35\n"
     ]
    }
   ],
   "source": [
    "a = input()"
   ]
  },
  {
   "cell_type": "code",
   "execution_count": 2,
   "id": "0c2a8b42",
   "metadata": {},
   "outputs": [
    {
     "data": {
      "text/plain": [
       "'35'"
      ]
     },
     "execution_count": 2,
     "metadata": {},
     "output_type": "execute_result"
    }
   ],
   "source": [
    "a             #Output mein ' ' mentioned hai. Therefore it a string"
   ]
  },
  {
   "cell_type": "code",
   "execution_count": 3,
   "id": "1557a695",
   "metadata": {},
   "outputs": [
    {
     "data": {
      "text/plain": [
       "str"
      ]
     },
     "execution_count": 3,
     "metadata": {},
     "output_type": "execute_result"
    }
   ],
   "source": [
    "type(a)       #Type check of a gives string"
   ]
  },
  {
   "cell_type": "code",
   "execution_count": 4,
   "id": "41c9e9e7",
   "metadata": {},
   "outputs": [
    {
     "name": "stdout",
     "output_type": "stream",
     "text": [
      "20\n"
     ]
    }
   ],
   "source": [
    "b= input()"
   ]
  },
  {
   "cell_type": "code",
   "execution_count": 5,
   "id": "df17bc19",
   "metadata": {},
   "outputs": [
    {
     "data": {
      "text/plain": [
       "'3520'"
      ]
     },
     "execution_count": 5,
     "metadata": {},
     "output_type": "execute_result"
    }
   ],
   "source": [
    "#since a and b, both are string values + will concatenate the string\n",
    "#can give string '3520'\n",
    "a + b    "
   ]
  },
  {
   "cell_type": "markdown",
   "id": "1e4b7403",
   "metadata": {},
   "source": [
    "\n",
    "WHAT WE CAN DO? --> CASTING\n"
   ]
  },
  {
   "cell_type": "code",
   "execution_count": 6,
   "id": "febebbe8",
   "metadata": {},
   "outputs": [
    {
     "data": {
      "text/plain": [
       "56"
      ]
     },
     "execution_count": 6,
     "metadata": {},
     "output_type": "execute_result"
    }
   ],
   "source": [
    "int('56')     #converts string '56' to integer 56"
   ]
  },
  {
   "cell_type": "code",
   "execution_count": 7,
   "id": "2b39ac80",
   "metadata": {},
   "outputs": [],
   "source": [
    "a= int(a)      #Type casted into integers\n",
    "b= int(b)"
   ]
  },
  {
   "cell_type": "code",
   "execution_count": 8,
   "id": "21c55d67",
   "metadata": {},
   "outputs": [
    {
     "data": {
      "text/plain": [
       "55"
      ]
     },
     "execution_count": 8,
     "metadata": {},
     "output_type": "execute_result"
    }
   ],
   "source": [
    "a + b          #Hence output is integer, sum of 2 numbers"
   ]
  },
  {
   "cell_type": "code",
   "execution_count": 9,
   "id": "4df45733",
   "metadata": {},
   "outputs": [
    {
     "data": {
      "text/plain": [
       "[2, 3, 4]"
      ]
     },
     "execution_count": 9,
     "metadata": {},
     "output_type": "execute_result"
    }
   ],
   "source": [
    "list((2,3,4))  #tuple casted to list"
   ]
  },
  {
   "cell_type": "markdown",
   "id": "b3b65121",
   "metadata": {},
   "source": [
    "\n",
    "SHORTCUT-SIMPLIFIED\n"
   ]
  },
  {
   "cell_type": "code",
   "execution_count": 10,
   "id": "56a0cfe5",
   "metadata": {},
   "outputs": [
    {
     "name": "stdout",
     "output_type": "stream",
     "text": [
      "20\n",
      "40\n"
     ]
    }
   ],
   "source": [
    "a = int(input())\n",
    "b = int(input())"
   ]
  },
  {
   "cell_type": "code",
   "execution_count": 11,
   "id": "599413ad",
   "metadata": {},
   "outputs": [
    {
     "data": {
      "text/plain": [
       "60"
      ]
     },
     "execution_count": 11,
     "metadata": {},
     "output_type": "execute_result"
    }
   ],
   "source": [
    "a + b"
   ]
  },
  {
   "cell_type": "markdown",
   "id": "c1388f7c",
   "metadata": {},
   "source": [
    "\n",
    "DISPLAY MESSAGE WHILE TAKING INPUT\n"
   ]
  },
  {
   "cell_type": "code",
   "execution_count": 13,
   "id": "68569b74",
   "metadata": {},
   "outputs": [
    {
     "name": "stdout",
     "output_type": "stream",
     "text": [
      "enter 1st nos: 20\n",
      "enter 2nd nos: 30\n"
     ]
    }
   ],
   "source": [
    "a = int(input(\"enter 1st nos: \"))\n",
    "b = int(input(\"enter 2nd nos: \"))"
   ]
  },
  {
   "cell_type": "code",
   "execution_count": 14,
   "id": "3198035c",
   "metadata": {},
   "outputs": [
    {
     "data": {
      "text/plain": [
       "int"
      ]
     },
     "execution_count": 14,
     "metadata": {},
     "output_type": "execute_result"
    }
   ],
   "source": [
    "type(a)"
   ]
  },
  {
   "cell_type": "markdown",
   "id": "a4daf5fa",
   "metadata": {},
   "source": [
    "\n",
    "\n",
    "IMPORTANT METHODS: split, strip, join \n",
    "\n",
    "strip: to remove extra spaces\n",
    "split: split a certain thing according to the parameter:(below 1st) according          to spaces \" \" \n",
    "join: only joins STRINGS!\n",
    "\n"
   ]
  },
  {
   "cell_type": "code",
   "execution_count": 16,
   "id": "b12c1e4d",
   "metadata": {},
   "outputs": [],
   "source": [
    "a = \"   2 3 4 5   \""
   ]
  },
  {
   "cell_type": "code",
   "execution_count": 17,
   "id": "1ee54b0d",
   "metadata": {},
   "outputs": [
    {
     "data": {
      "text/plain": [
       "'2 3 4 5'"
      ]
     },
     "execution_count": 17,
     "metadata": {},
     "output_type": "execute_result"
    }
   ],
   "source": [
    "a.strip()"
   ]
  },
  {
   "cell_type": "code",
   "execution_count": 22,
   "id": "1a9d77f6",
   "metadata": {},
   "outputs": [],
   "source": [
    "b= a.strip()"
   ]
  },
  {
   "cell_type": "code",
   "execution_count": 26,
   "id": "f38df838",
   "metadata": {},
   "outputs": [],
   "source": [
    "li = b.split(\" \")"
   ]
  },
  {
   "cell_type": "code",
   "execution_count": 27,
   "id": "df2a6372",
   "metadata": {},
   "outputs": [
    {
     "data": {
      "text/plain": [
       "['2', '3', '4', '5']"
      ]
     },
     "execution_count": 27,
     "metadata": {},
     "output_type": "execute_result"
    }
   ],
   "source": [
    "li      #these are all string elements - to convert it to "
   ]
  },
  {
   "cell_type": "code",
   "execution_count": 30,
   "id": "8a3d3dec",
   "metadata": {},
   "outputs": [],
   "source": [
    "l = list(map(int, li))"
   ]
  },
  {
   "cell_type": "code",
   "execution_count": 31,
   "id": "87f07135",
   "metadata": {},
   "outputs": [
    {
     "data": {
      "text/plain": [
       "[2, 3, 4, 5]"
      ]
     },
     "execution_count": 31,
     "metadata": {},
     "output_type": "execute_result"
    }
   ],
   "source": [
    "l"
   ]
  },
  {
   "cell_type": "code",
   "execution_count": 32,
   "id": "c9b8382e",
   "metadata": {},
   "outputs": [
    {
     "data": {
      "text/plain": [
       "14"
      ]
     },
     "execution_count": 32,
     "metadata": {},
     "output_type": "execute_result"
    }
   ],
   "source": [
    "sum(l) \n",
    "#sum of integer elements of the list ::: other place will have string concatenating"
   ]
  },
  {
   "cell_type": "markdown",
   "id": "5dac6eaa",
   "metadata": {},
   "source": [
    "\n",
    "\n",
    "INPUT TO LIST\n",
    "\n",
    "\n"
   ]
  },
  {
   "cell_type": "code",
   "execution_count": 34,
   "id": "e10cb659",
   "metadata": {},
   "outputs": [
    {
     "name": "stdout",
     "output_type": "stream",
     "text": [
      "2 3 4 5\n"
     ]
    }
   ],
   "source": [
    "a = input()"
   ]
  },
  {
   "cell_type": "code",
   "execution_count": 36,
   "id": "2b1c2cb0",
   "metadata": {},
   "outputs": [],
   "source": [
    "li = a.split(\" \")  #split it by space"
   ]
  },
  {
   "cell_type": "code",
   "execution_count": 37,
   "id": "49da0591",
   "metadata": {},
   "outputs": [
    {
     "data": {
      "text/plain": [
       "['2', '3', '4', '5']"
      ]
     },
     "execution_count": 37,
     "metadata": {},
     "output_type": "execute_result"
    }
   ],
   "source": [
    "li"
   ]
  },
  {
   "cell_type": "code",
   "execution_count": 38,
   "id": "0aaf53a6",
   "metadata": {},
   "outputs": [
    {
     "data": {
      "text/plain": [
       "[2, 3, 4, 5]"
      ]
     },
     "execution_count": 38,
     "metadata": {},
     "output_type": "execute_result"
    }
   ],
   "source": [
    "list(map(int, li))    #can be converted to list"
   ]
  },
  {
   "cell_type": "code",
   "execution_count": 39,
   "id": "4a2aafff",
   "metadata": {},
   "outputs": [
    {
     "data": {
      "text/plain": [
       "list"
      ]
     },
     "execution_count": 39,
     "metadata": {},
     "output_type": "execute_result"
    }
   ],
   "source": [
    "type(li)"
   ]
  },
  {
   "cell_type": "code",
   "execution_count": 40,
   "id": "7bdbcc4a",
   "metadata": {},
   "outputs": [
    {
     "data": {
      "text/plain": [
       "(2, 3, 4, 5)"
      ]
     },
     "execution_count": 40,
     "metadata": {},
     "output_type": "execute_result"
    }
   ],
   "source": [
    "tuple(map(int, li))   #can be converted to tuple"
   ]
  },
  {
   "cell_type": "code",
   "execution_count": 41,
   "id": "5c2cda7f",
   "metadata": {},
   "outputs": [],
   "source": [
    "f= 10\n",
    "s= 20\n",
    "f,s = s,f     # it converts s,f to tuple then assigns values, hence ans in tuple"
   ]
  },
  {
   "cell_type": "code",
   "execution_count": 42,
   "id": "22bda2d3",
   "metadata": {},
   "outputs": [
    {
     "data": {
      "text/plain": [
       "(10, 20)"
      ]
     },
     "execution_count": 42,
     "metadata": {},
     "output_type": "execute_result"
    }
   ],
   "source": [
    "s,f"
   ]
  },
  {
   "cell_type": "code",
   "execution_count": 43,
   "id": "7af610ef",
   "metadata": {},
   "outputs": [],
   "source": [
    "num1, num2, num3 = [10, 20, 30]"
   ]
  },
  {
   "cell_type": "code",
   "execution_count": 44,
   "id": "b1125cd4",
   "metadata": {},
   "outputs": [
    {
     "data": {
      "text/plain": [
       "10"
      ]
     },
     "execution_count": 44,
     "metadata": {},
     "output_type": "execute_result"
    }
   ],
   "source": [
    "num1"
   ]
  },
  {
   "cell_type": "code",
   "execution_count": 45,
   "id": "b5a6ad3e",
   "metadata": {},
   "outputs": [
    {
     "data": {
      "text/plain": [
       "20"
      ]
     },
     "execution_count": 45,
     "metadata": {},
     "output_type": "execute_result"
    }
   ],
   "source": [
    "num2"
   ]
  },
  {
   "cell_type": "code",
   "execution_count": 46,
   "id": "56ce59d1",
   "metadata": {},
   "outputs": [
    {
     "name": "stdout",
     "output_type": "stream",
     "text": [
      "5 8\n"
     ]
    }
   ],
   "source": [
    "nums = input()                     #takes string input "
   ]
  },
  {
   "cell_type": "code",
   "execution_count": 48,
   "id": "9b9275a0",
   "metadata": {},
   "outputs": [],
   "source": [
    "a, b = map(int, nums.split(\" \"))  #splits that string input considering space\" \""
   ]
  },
  {
   "cell_type": "code",
   "execution_count": 49,
   "id": "372ceda7",
   "metadata": {},
   "outputs": [
    {
     "data": {
      "text/plain": [
       "5"
      ]
     },
     "execution_count": 49,
     "metadata": {},
     "output_type": "execute_result"
    }
   ],
   "source": [
    "a"
   ]
  },
  {
   "cell_type": "code",
   "execution_count": 50,
   "id": "fdfb52a1",
   "metadata": {},
   "outputs": [
    {
     "data": {
      "text/plain": [
       "8"
      ]
     },
     "execution_count": 50,
     "metadata": {},
     "output_type": "execute_result"
    }
   ],
   "source": [
    "b"
   ]
  },
  {
   "cell_type": "markdown",
   "id": "0cd72d68",
   "metadata": {},
   "source": [
    "JOIN with strings only!"
   ]
  },
  {
   "cell_type": "code",
   "execution_count": 57,
   "id": "a22753b8",
   "metadata": {},
   "outputs": [
    {
     "name": "stdout",
     "output_type": "stream",
     "text": [
      "2 3 4 6 7\n"
     ]
    }
   ],
   "source": [
    "d = input()"
   ]
  },
  {
   "cell_type": "code",
   "execution_count": 63,
   "id": "f3ba951a",
   "metadata": {},
   "outputs": [],
   "source": [
    "lis = d.split(\" \")    "
   ]
  },
  {
   "cell_type": "code",
   "execution_count": 64,
   "id": "c1c83208",
   "metadata": {},
   "outputs": [
    {
     "data": {
      "text/plain": [
       "['2', '3', '4', '6', '7']"
      ]
     },
     "execution_count": 64,
     "metadata": {},
     "output_type": "execute_result"
    }
   ],
   "source": [
    "lis"
   ]
  },
  {
   "cell_type": "code",
   "execution_count": 65,
   "id": "6730199b",
   "metadata": {},
   "outputs": [
    {
     "data": {
      "text/plain": [
       "'2-3-4-6-7'"
      ]
     },
     "execution_count": 65,
     "metadata": {},
     "output_type": "execute_result"
    }
   ],
   "source": [
    "\"-\".join(lis)"
   ]
  },
  {
   "cell_type": "markdown",
   "id": "d04d8270",
   "metadata": {},
   "source": [
    "\n",
    "\n",
    "PRINTING!\n",
    "sep argument\n",
    "\n"
   ]
  },
  {
   "cell_type": "code",
   "execution_count": 51,
   "id": "5adf8176",
   "metadata": {},
   "outputs": [
    {
     "name": "stdout",
     "output_type": "stream",
     "text": [
      "34 56\n"
     ]
    }
   ],
   "source": [
    "#print has a sep argument that decides what to add instead of , (comma)\n",
    "#default is space sep = \" \"\n",
    "print(34, 56) "
   ]
  },
  {
   "cell_type": "code",
   "execution_count": 52,
   "id": "19c99a89",
   "metadata": {},
   "outputs": [
    {
     "name": "stdout",
     "output_type": "stream",
     "text": [
      "34-56\n"
     ]
    }
   ],
   "source": [
    "#customised sep\n",
    "print(34, 56, sep=\"-\")"
   ]
  },
  {
   "cell_type": "code",
   "execution_count": null,
   "id": "80ad2f4b",
   "metadata": {},
   "outputs": [],
   "source": [
    "STRING FORMATTING"
   ]
  },
  {
   "cell_type": "code",
   "execution_count": 53,
   "id": "23af75ac",
   "metadata": {},
   "outputs": [],
   "source": [
    "a= 10\n",
    "b= 20"
   ]
  },
  {
   "cell_type": "code",
   "execution_count": 54,
   "id": "e7f90041",
   "metadata": {},
   "outputs": [
    {
     "name": "stdout",
     "output_type": "stream",
     "text": [
      "the 2 nos are 10 and 20\n"
     ]
    }
   ],
   "source": [
    "print(\"the 2 nos are\", a, \"and\", b)       #comma , after everything"
   ]
  },
  {
   "cell_type": "code",
   "execution_count": 55,
   "id": "e3d6ad02",
   "metadata": {},
   "outputs": [
    {
     "name": "stdout",
     "output_type": "stream",
     "text": [
      "the 2 nos are 10 and 20\n"
     ]
    }
   ],
   "source": [
    "print(\"the 2 nos are {} and {}\".format(a,b))  \n",
    "#here place holders are used {} --> format method used!"
   ]
  },
  {
   "cell_type": "code",
   "execution_count": null,
   "id": "8970f9ea",
   "metadata": {},
   "outputs": [],
   "source": [
    "#f string -- BEST WAY!"
   ]
  },
  {
   "cell_type": "code",
   "execution_count": 56,
   "id": "2693300c",
   "metadata": {},
   "outputs": [
    {
     "name": "stdout",
     "output_type": "stream",
     "text": [
      "the 2 nos are 10 and 20\n"
     ]
    }
   ],
   "source": [
    "print(f\"the 2 nos are {a} and {b}\")"
   ]
  },
  {
   "cell_type": "code",
   "execution_count": null,
   "id": "fb90bf37",
   "metadata": {},
   "outputs": [],
   "source": []
  }
 ],
 "metadata": {
  "kernelspec": {
   "display_name": "Python 3 (ipykernel)",
   "language": "python",
   "name": "python3"
  },
  "language_info": {
   "codemirror_mode": {
    "name": "ipython",
    "version": 3
   },
   "file_extension": ".py",
   "mimetype": "text/x-python",
   "name": "python",
   "nbconvert_exporter": "python",
   "pygments_lexer": "ipython3",
   "version": "3.10.7"
  }
 },
 "nbformat": 4,
 "nbformat_minor": 5
}
