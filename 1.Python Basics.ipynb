{
 "cells": [
  {
   "cell_type": "code",
   "execution_count": 5,
   "id": "c2c7e3bf",
   "metadata": {},
   "outputs": [],
   "source": [
    "x = 10"
   ]
  },
  {
   "cell_type": "code",
   "execution_count": 6,
   "id": "8b4313c5",
   "metadata": {},
   "outputs": [
    {
     "data": {
      "text/plain": [
       "10"
      ]
     },
     "execution_count": 6,
     "metadata": {},
     "output_type": "execute_result"
    }
   ],
   "source": [
    "x"
   ]
  },
  {
   "cell_type": "code",
   "execution_count": 7,
   "id": "638f69ad",
   "metadata": {},
   "outputs": [],
   "source": [
    "x= \"Tanya\"  \n",
    "#since x is pointing to 'Tanya' now, the value 10 is removed by \n",
    "#the garbage collector"
   ]
  },
  {
   "cell_type": "code",
   "execution_count": 8,
   "id": "cacf8b43",
   "metadata": {},
   "outputs": [
    {
     "data": {
      "text/plain": [
       "'Tanya'"
      ]
     },
     "execution_count": 8,
     "metadata": {},
     "output_type": "execute_result"
    }
   ],
   "source": [
    "x"
   ]
  },
  {
   "cell_type": "code",
   "execution_count": 10,
   "id": "9df19156",
   "metadata": {},
   "outputs": [
    {
     "data": {
      "text/plain": [
       "str"
      ]
     },
     "execution_count": 10,
     "metadata": {},
     "output_type": "execute_result"
    }
   ],
   "source": [
    "type(x)"
   ]
  },
  {
   "cell_type": "code",
   "execution_count": 11,
   "id": "ac3c4cb3",
   "metadata": {},
   "outputs": [],
   "source": [
    "x = 10"
   ]
  },
  {
   "cell_type": "code",
   "execution_count": 12,
   "id": "d3bbc411",
   "metadata": {},
   "outputs": [],
   "source": [
    "y = 10"
   ]
  },
  {
   "cell_type": "code",
   "execution_count": 13,
   "id": "2b8db753",
   "metadata": {},
   "outputs": [
    {
     "data": {
      "text/plain": [
       "True"
      ]
     },
     "execution_count": 13,
     "metadata": {},
     "output_type": "execute_result"
    }
   ],
   "source": [
    "x = = y     # == comapares values"
   ]
  },
  {
   "cell_type": "code",
   "execution_count": 15,
   "id": "c5512bd7",
   "metadata": {},
   "outputs": [
    {
     "data": {
      "text/plain": [
       "True"
      ]
     },
     "execution_count": 15,
     "metadata": {},
     "output_type": "execute_result"
    }
   ],
   "source": [
    "x is y      #x and y both point to the same object 10"
   ]
  },
  {
   "cell_type": "code",
   "execution_count": 16,
   "id": "f818e992",
   "metadata": {},
   "outputs": [],
   "source": [
    "x = 4555\n",
    "y = 4555"
   ]
  },
  {
   "cell_type": "code",
   "execution_count": 17,
   "id": "de8553e5",
   "metadata": {},
   "outputs": [
    {
     "data": {
      "text/plain": [
       "False"
      ]
     },
     "execution_count": 17,
     "metadata": {},
     "output_type": "execute_result"
    }
   ],
   "source": [
    "x is y      #x and y are pointing to different objects"
   ]
  },
  {
   "cell_type": "code",
   "execution_count": 19,
   "id": "2e72ec53",
   "metadata": {},
   "outputs": [],
   "source": [
    "a = 256\n",
    "b = 256"
   ]
  },
  {
   "cell_type": "code",
   "execution_count": 20,
   "id": "fe1d19de",
   "metadata": {},
   "outputs": [
    {
     "data": {
      "text/plain": [
       "True"
      ]
     },
     "execution_count": 20,
     "metadata": {},
     "output_type": "execute_result"
    }
   ],
   "source": [
    "a is b"
   ]
  },
  {
   "cell_type": "code",
   "execution_count": null,
   "id": "9047e682",
   "metadata": {},
   "outputs": [],
   "source": [
    "a = 257\n",
    "b = 257"
   ]
  },
  {
   "cell_type": "code",
   "execution_count": 21,
   "id": "f2a0574e",
   "metadata": {},
   "outputs": [
    {
     "data": {
      "text/plain": [
       "True"
      ]
     },
     "execution_count": 21,
     "metadata": {},
     "output_type": "execute_result"
    }
   ],
   "source": [
    "a is b"
   ]
  },
  {
   "cell_type": "markdown",
   "id": "64b824c6",
   "metadata": {},
   "source": [
    "SIZE OF INT"
   ]
  },
  {
   "cell_type": "code",
   "execution_count": 22,
   "id": "00dba20b",
   "metadata": {},
   "outputs": [],
   "source": [
    "a = 2349793743898208023204"
   ]
  },
  {
   "cell_type": "code",
   "execution_count": 23,
   "id": "583f433d",
   "metadata": {},
   "outputs": [],
   "source": [
    "b = a**100"
   ]
  },
  {
   "cell_type": "code",
   "execution_count": 24,
   "id": "338cfa46",
   "metadata": {},
   "outputs": [
    {
     "data": {
      "text/plain": [
       "12675769113941476986515410444313660127614602783655726854621018490829774323957470874452205607459690194611823908576447547177103823339975551095858159675211343545976028467925959930144308576009652901258755286832655749885182250727567888857676147447079368153575312731204270850108419461920187785230941213171328962769440137718739757156106903268136173282591244339454306992828123521251258187802698004881100415027586004425707405656050922501848262641943506652275214178129383308105904478744950558281188754623892031041163692147573208813533566128442935029769227671988726394209485968889920890839554162286190151904593435219675961621093788256049412243044984754507862759608229580370958774303638478904972296893328847166710205597603411862068257221363480510279843402575731710093485905938060092009507597122660392710943519351047049610354167868586134696285977401060248842402798594087533871442929172605201532977279600798174809680968903101098088781734111047344785749903400561515842048532396590769679132476090858487320660562526117932628018691228587771222108391892784100335787147841131333281751347987894582895549102920961210305114024626814940737129111187457365392912052266930047675704513734134788494316916952420441510840770232771015505575927465524814341003461489366749399527678926453088804299118512148633430942317490921087554722140070845483849052593053945099125958519344438926620526234216930007748085323522875864630133590157643268826488184667275218388874002218180602768101457829827199596364936955623026564431764437446033914740553456533198766935678747245321648974531658199267508472027905156294907628579663268402183775936528766994938279719710046953192774088100988025597578861218536835555306521451258706259509021381753355440892908729707790398974294425887289920702323373766635765074994053267411382503654268155503830721490221556015489760630004187933890154127168710021594796179614400993843335306369307413737358309504422226786561873153556381424221466649990823657812106727787659141665456184791884486275257120220910037800582949586761251847735875347996795815099266951362556954269745017739136497487301313597969422341068378042042120651323293625441304393981062118323219262001381376"
      ]
     },
     "execution_count": 24,
     "metadata": {},
     "output_type": "execute_result"
    }
   ],
   "source": [
    "b"
   ]
  },
  {
   "cell_type": "code",
   "execution_count": 25,
   "id": "bd578771",
   "metadata": {},
   "outputs": [
    {
     "data": {
      "text/plain": [
       "int"
      ]
     },
     "execution_count": 25,
     "metadata": {},
     "output_type": "execute_result"
    }
   ],
   "source": [
    "type(b)"
   ]
  },
  {
   "cell_type": "code",
   "execution_count": 26,
   "id": "05ed6f83",
   "metadata": {},
   "outputs": [
    {
     "data": {
      "text/plain": [
       "30"
      ]
     },
     "execution_count": 26,
     "metadata": {},
     "output_type": "execute_result"
    }
   ],
   "source": [
    "a= 10\n",
    "b=20\n",
    "a+b"
   ]
  },
  {
   "cell_type": "code",
   "execution_count": null,
   "id": "3410bd78",
   "metadata": {},
   "outputs": [],
   "source": [
    "a =3 \n",
    "b = 2 "
   ]
  },
  {
   "cell_type": "code",
   "execution_count": 27,
   "id": "60bcd229",
   "metadata": {},
   "outputs": [
    {
     "data": {
      "text/plain": [
       "0.5"
      ]
     },
     "execution_count": 27,
     "metadata": {},
     "output_type": "execute_result"
    }
   ],
   "source": [
    "a/b"
   ]
  },
  {
   "cell_type": "code",
   "execution_count": 28,
   "id": "e1b51a60",
   "metadata": {},
   "outputs": [
    {
     "data": {
      "text/plain": [
       "0"
      ]
     },
     "execution_count": 28,
     "metadata": {},
     "output_type": "execute_result"
    }
   ],
   "source": [
    "a//b       #gives integer value only"
   ]
  },
  {
   "cell_type": "markdown",
   "id": "d728b976",
   "metadata": {},
   "source": [
    "###### DATATYPES - lists , tuples"
   ]
  },
  {
   "cell_type": "code",
   "execution_count": 29,
   "id": "c479719f",
   "metadata": {},
   "outputs": [],
   "source": [
    "a = [2,4,6]"
   ]
  },
  {
   "cell_type": "code",
   "execution_count": 30,
   "id": "39cc2e3d",
   "metadata": {},
   "outputs": [
    {
     "data": {
      "text/plain": [
       "6"
      ]
     },
     "execution_count": 30,
     "metadata": {},
     "output_type": "execute_result"
    }
   ],
   "source": [
    "a[2]"
   ]
  },
  {
   "cell_type": "code",
   "execution_count": null,
   "id": "7480cf90",
   "metadata": {},
   "outputs": [],
   "source": []
  },
  {
   "cell_type": "code",
   "execution_count": 31,
   "id": "e8549988",
   "metadata": {},
   "outputs": [],
   "source": [
    "apoorv = [23, 34, 76]\n",
    "baby = apoorv"
   ]
  },
  {
   "cell_type": "code",
   "execution_count": 32,
   "id": "83882f9f",
   "metadata": {},
   "outputs": [
    {
     "data": {
      "text/plain": [
       "[23, 34, 76]"
      ]
     },
     "execution_count": 32,
     "metadata": {},
     "output_type": "execute_result"
    }
   ],
   "source": [
    "apoorv"
   ]
  },
  {
   "cell_type": "code",
   "execution_count": 33,
   "id": "8ca1224f",
   "metadata": {},
   "outputs": [
    {
     "data": {
      "text/plain": [
       "[23, 34, 76]"
      ]
     },
     "execution_count": 33,
     "metadata": {},
     "output_type": "execute_result"
    }
   ],
   "source": [
    "baby"
   ]
  },
  {
   "cell_type": "code",
   "execution_count": 34,
   "id": "b8eadc92",
   "metadata": {},
   "outputs": [
    {
     "data": {
      "text/plain": [
       "True"
      ]
     },
     "execution_count": 34,
     "metadata": {},
     "output_type": "execute_result"
    }
   ],
   "source": [
    "apoorv is baby"
   ]
  },
  {
   "cell_type": "code",
   "execution_count": 37,
   "id": "6460f4b8",
   "metadata": {},
   "outputs": [],
   "source": [
    "baby[0] = 20"
   ]
  },
  {
   "cell_type": "code",
   "execution_count": 39,
   "id": "3296dd74",
   "metadata": {},
   "outputs": [
    {
     "data": {
      "text/plain": [
       "[20, 34, 76]"
      ]
     },
     "execution_count": 39,
     "metadata": {},
     "output_type": "execute_result"
    }
   ],
   "source": [
    "apoorv"
   ]
  },
  {
   "cell_type": "code",
   "execution_count": 40,
   "id": "0cbc66cc",
   "metadata": {},
   "outputs": [],
   "source": [
    "rahul = [66, 45]"
   ]
  },
  {
   "cell_type": "code",
   "execution_count": 41,
   "id": "b532c75e",
   "metadata": {},
   "outputs": [],
   "source": [
    "baby = rahul"
   ]
  },
  {
   "cell_type": "code",
   "execution_count": null,
   "id": "11fd1b81",
   "metadata": {},
   "outputs": [],
   "source": [
    "apoorv = None\n",
    "#initial object created has no refernce variable now-- garbage collections hits and removes that"
   ]
  },
  {
   "cell_type": "markdown",
   "id": "d3a5fcb4",
   "metadata": {},
   "source": [
    "TUPLE - immutable for SECURITY reasons"
   ]
  },
  {
   "cell_type": "code",
   "execution_count": 42,
   "id": "ace37522",
   "metadata": {},
   "outputs": [],
   "source": [
    "a = (32, 44, 56)"
   ]
  },
  {
   "cell_type": "code",
   "execution_count": 43,
   "id": "65273a62",
   "metadata": {},
   "outputs": [
    {
     "data": {
      "text/plain": [
       "44"
      ]
     },
     "execution_count": 43,
     "metadata": {},
     "output_type": "execute_result"
    }
   ],
   "source": [
    "a[1]"
   ]
  },
  {
   "cell_type": "code",
   "execution_count": 45,
   "id": "a4e5f18c",
   "metadata": {},
   "outputs": [
    {
     "ename": "TypeError",
     "evalue": "'tuple' object does not support item assignment",
     "output_type": "error",
     "traceback": [
      "\u001b[1;31m---------------------------------------------------------------------------\u001b[0m",
      "\u001b[1;31mTypeError\u001b[0m                                 Traceback (most recent call last)",
      "Cell \u001b[1;32mIn [45], line 1\u001b[0m\n\u001b[1;32m----> 1\u001b[0m \u001b[43ma\u001b[49m\u001b[43m[\u001b[49m\u001b[38;5;241;43m0\u001b[39;49m\u001b[43m]\u001b[49m\u001b[38;5;241m=\u001b[39m \u001b[38;5;241m67\u001b[39m\n",
      "\u001b[1;31mTypeError\u001b[0m: 'tuple' object does not support item assignment"
     ]
    }
   ],
   "source": [
    "a[0]= 67    #ERROR!  because object value cannot be changed"
   ]
  },
  {
   "cell_type": "code",
   "execution_count": 47,
   "id": "adb47074",
   "metadata": {},
   "outputs": [],
   "source": [
    "a = (78, 89)  \n",
    "#But this CAN BE DONE! why? because we are assigning a new object to 'a' "
   ]
  },
  {
   "cell_type": "code",
   "execution_count": 48,
   "id": "0e6ee90d",
   "metadata": {},
   "outputs": [],
   "source": [
    "b = ([2,3], [5,6])"
   ]
  },
  {
   "cell_type": "code",
   "execution_count": 49,
   "id": "1d294d92",
   "metadata": {},
   "outputs": [
    {
     "data": {
      "text/plain": [
       "[2, 3]"
      ]
     },
     "execution_count": 49,
     "metadata": {},
     "output_type": "execute_result"
    }
   ],
   "source": [
    "b[0]"
   ]
  },
  {
   "cell_type": "code",
   "execution_count": 50,
   "id": "1d2aee30",
   "metadata": {},
   "outputs": [
    {
     "ename": "TypeError",
     "evalue": "'tuple' object does not support item assignment",
     "output_type": "error",
     "traceback": [
      "\u001b[1;31m---------------------------------------------------------------------------\u001b[0m",
      "\u001b[1;31mTypeError\u001b[0m                                 Traceback (most recent call last)",
      "Cell \u001b[1;32mIn [50], line 1\u001b[0m\n\u001b[1;32m----> 1\u001b[0m \u001b[43mb\u001b[49m\u001b[43m[\u001b[49m\u001b[38;5;241;43m0\u001b[39;49m\u001b[43m]\u001b[49m\u001b[38;5;241m=\u001b[39m \u001b[38;5;241m66\u001b[39m\n",
      "\u001b[1;31mTypeError\u001b[0m: 'tuple' object does not support item assignment"
     ]
    }
   ],
   "source": [
    "b[0]= 66        #ERROR tuple object VALUE can't be changed"
   ]
  },
  {
   "cell_type": "code",
   "execution_count": 51,
   "id": "2e7df360",
   "metadata": {},
   "outputs": [],
   "source": [
    "b[0][1]= 66    \n",
    "#However this can be done! Because we dealing with the internal list object\n",
    "#it can be changed"
   ]
  },
  {
   "cell_type": "code",
   "execution_count": 52,
   "id": "2cb68d28",
   "metadata": {},
   "outputs": [
    {
     "data": {
      "text/plain": [
       "([2, 66], [5, 6])"
      ]
     },
     "execution_count": 52,
     "metadata": {},
     "output_type": "execute_result"
    }
   ],
   "source": [
    "b"
   ]
  },
  {
   "cell_type": "markdown",
   "id": "11620fc7",
   "metadata": {},
   "source": [
    "SETS - same as in maths \n",
    "unique elements\n",
    "no duplicates\n",
    "unordered"
   ]
  },
  {
   "cell_type": "code",
   "execution_count": 53,
   "id": "f1930f72",
   "metadata": {},
   "outputs": [],
   "source": [
    "a = { 34, 34, 56}"
   ]
  },
  {
   "cell_type": "code",
   "execution_count": 54,
   "id": "cc396275",
   "metadata": {},
   "outputs": [
    {
     "data": {
      "text/plain": [
       "{34, 56}"
      ]
     },
     "execution_count": 54,
     "metadata": {},
     "output_type": "execute_result"
    }
   ],
   "source": [
    "a"
   ]
  },
  {
   "cell_type": "code",
   "execution_count": 55,
   "id": "a7d84c31",
   "metadata": {},
   "outputs": [
    {
     "data": {
      "text/plain": [
       "{1, 2, 3}"
      ]
     },
     "execution_count": 55,
     "metadata": {},
     "output_type": "execute_result"
    }
   ],
   "source": [
    "set([1,2,3,3])"
   ]
  },
  {
   "cell_type": "code",
   "execution_count": 56,
   "id": "d91c2c28",
   "metadata": {},
   "outputs": [],
   "source": [
    "d = {\"mango\" : \"yellow fruit\", \"apple\" : \"red fruit\"}"
   ]
  },
  {
   "cell_type": "code",
   "execution_count": 57,
   "id": "7247e037",
   "metadata": {},
   "outputs": [
    {
     "data": {
      "text/plain": [
       "'yellow fruit'"
      ]
     },
     "execution_count": 57,
     "metadata": {},
     "output_type": "execute_result"
    }
   ],
   "source": [
    "d['mango']"
   ]
  },
  {
   "cell_type": "code",
   "execution_count": 58,
   "id": "a638cdcf",
   "metadata": {},
   "outputs": [],
   "source": [
    "d['apple'] = \"my fav fruit\""
   ]
  },
  {
   "cell_type": "code",
   "execution_count": 59,
   "id": "3bb02ffb",
   "metadata": {},
   "outputs": [
    {
     "data": {
      "text/plain": [
       "{'mango': 'yellow fruit', 'apple': 'my fav fruit'}"
      ]
     },
     "execution_count": 59,
     "metadata": {},
     "output_type": "execute_result"
    }
   ],
   "source": [
    "d"
   ]
  },
  {
   "cell_type": "code",
   "execution_count": 61,
   "id": "90502df2",
   "metadata": {},
   "outputs": [
    {
     "ename": "SyntaxError",
     "evalue": "invalid syntax (1332130792.py, line 1)",
     "output_type": "error",
     "traceback": [
      "\u001b[1;36m  Cell \u001b[1;32mIn [61], line 1\u001b[1;36m\u001b[0m\n\u001b[1;33m    dict(\"mango\": \"yellow fruit\", \"apple\": \"my fav fruit\")\u001b[0m\n\u001b[1;37m                ^\u001b[0m\n\u001b[1;31mSyntaxError\u001b[0m\u001b[1;31m:\u001b[0m invalid syntax\n"
     ]
    }
   ],
   "source": [
    "dict(\"mango\": \"yellow fruit\", \"apple\": \"my fav fruit\")"
   ]
  },
  {
   "cell_type": "markdown",
   "id": "cf6eb6e9",
   "metadata": {},
   "source": [
    "STRING IS A [LIST] OF CHARACTERS\n"
   ]
  },
  {
   "cell_type": "markdown",
   "id": "22e1e45f",
   "metadata": {},
   "source": [
    "SLICING!"
   ]
  },
  {
   "cell_type": "code",
   "execution_count": 63,
   "id": "4805be56",
   "metadata": {},
   "outputs": [],
   "source": [
    "a = [34, 56, 76, 54]"
   ]
  },
  {
   "cell_type": "code",
   "execution_count": 64,
   "id": "68a06599",
   "metadata": {},
   "outputs": [
    {
     "data": {
      "text/plain": [
       "[56, 76]"
      ]
     },
     "execution_count": 64,
     "metadata": {},
     "output_type": "execute_result"
    }
   ],
   "source": [
    "a[1:3]   #EXCLUDES THE LAST TERM HERE 3-INDEX"
   ]
  },
  {
   "cell_type": "code",
   "execution_count": 65,
   "id": "d8acecac",
   "metadata": {},
   "outputs": [
    {
     "data": {
      "text/plain": [
       "[34, 56, 76]"
      ]
     },
     "execution_count": 65,
     "metadata": {},
     "output_type": "execute_result"
    }
   ],
   "source": [
    "a[ : -1]"
   ]
  },
  {
   "cell_type": "code",
   "execution_count": 66,
   "id": "15ee2168",
   "metadata": {},
   "outputs": [
    {
     "data": {
      "text/plain": [
       "[54]"
      ]
     },
     "execution_count": 66,
     "metadata": {},
     "output_type": "execute_result"
    }
   ],
   "source": [
    "a[-1:]"
   ]
  },
  {
   "cell_type": "code",
   "execution_count": 68,
   "id": "09c18316",
   "metadata": {},
   "outputs": [
    {
     "data": {
      "text/plain": [
       "[54, 76]"
      ]
     },
     "execution_count": 68,
     "metadata": {},
     "output_type": "execute_result"
    }
   ],
   "source": [
    "a[-1: -3: -1]"
   ]
  },
  {
   "cell_type": "code",
   "execution_count": 69,
   "id": "37d6fb72",
   "metadata": {},
   "outputs": [
    {
     "data": {
      "text/plain": [
       "[54, 76, 56, 34]"
      ]
     },
     "execution_count": 69,
     "metadata": {},
     "output_type": "execute_result"
    }
   ],
   "source": [
    "a[-1: :-1]   ### REVERSE A LIST:last ka print karo end tak jao with \"-1\" steps"
   ]
  },
  {
   "cell_type": "code",
   "execution_count": 70,
   "id": "85009ec7",
   "metadata": {},
   "outputs": [
    {
     "data": {
      "text/plain": [
       "[54, 76]"
      ]
     },
     "execution_count": 70,
     "metadata": {},
     "output_type": "execute_result"
    }
   ],
   "source": [
    "a[-1:-3:-1]   # last term is excluded here -3 INDEX"
   ]
  },
  {
   "cell_type": "code",
   "execution_count": null,
   "id": "3d364c96",
   "metadata": {},
   "outputs": [],
   "source": []
  },
  {
   "cell_type": "code",
   "execution_count": null,
   "id": "49de82fd",
   "metadata": {},
   "outputs": [],
   "source": []
  },
  {
   "cell_type": "code",
   "execution_count": null,
   "id": "aaaf705d",
   "metadata": {},
   "outputs": [],
   "source": []
  },
  {
   "cell_type": "code",
   "execution_count": null,
   "id": "cd1495d9",
   "metadata": {},
   "outputs": [],
   "source": []
  },
  {
   "cell_type": "code",
   "execution_count": 19,
   "id": "14c7d04f",
   "metadata": {},
   "outputs": [],
   "source": [
    "a = 10"
   ]
  },
  {
   "cell_type": "code",
   "execution_count": 20,
   "id": "b49066aa",
   "metadata": {},
   "outputs": [
    {
     "data": {
      "text/plain": [
       "10"
      ]
     },
     "execution_count": 20,
     "metadata": {},
     "output_type": "execute_result"
    }
   ],
   "source": [
    "a"
   ]
  },
  {
   "cell_type": "code",
   "execution_count": 21,
   "id": "d285c65a",
   "metadata": {},
   "outputs": [],
   "source": [
    "a=0"
   ]
  },
  {
   "cell_type": "code",
   "execution_count": 22,
   "id": "a8bf3bf7",
   "metadata": {},
   "outputs": [],
   "source": []
  },
  {
   "cell_type": "code",
   "execution_count": 23,
   "id": "f4c887fa",
   "metadata": {},
   "outputs": [
    {
     "name": "stdout",
     "output_type": "stream",
     "text": [
      "hi\n"
     ]
    }
   ],
   "source": []
  },
  {
   "cell_type": "code",
   "execution_count": null,
   "id": "7f19eb0c",
   "metadata": {},
   "outputs": [],
   "source": []
  }
 ],
 "metadata": {
  "kernelspec": {
   "display_name": "Python 3 (ipykernel)",
   "language": "python",
   "name": "python3"
  },
  "language_info": {
   "codemirror_mode": {
    "name": "ipython",
    "version": 3
   },
   "file_extension": ".py",
   "mimetype": "text/x-python",
   "name": "python",
   "nbconvert_exporter": "python",
   "pygments_lexer": "ipython3",
   "version": "3.10.7"
  }
 },
 "nbformat": 4,
 "nbformat_minor": 5
}
