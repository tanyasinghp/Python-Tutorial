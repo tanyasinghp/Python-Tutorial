{
 "cells": [
  {
   "cell_type": "code",
   "execution_count": null,
   "id": "82a2c110",
   "metadata": {},
   "outputs": [],
   "source": [
    "#DRY : Don't Repeat yourself! -- FUNCTIONS[ def keyword ]"
   ]
  },
  {
   "cell_type": "code",
   "execution_count": 37,
   "id": "7e3744ac",
   "metadata": {},
   "outputs": [],
   "source": [
    "def fun():\n",
    "    print(\"Hello\")"
   ]
  },
  {
   "cell_type": "code",
   "execution_count": 38,
   "id": "9bb11a74",
   "metadata": {},
   "outputs": [
    {
     "name": "stdout",
     "output_type": "stream",
     "text": [
      "Hello\n"
     ]
    }
   ],
   "source": [
    " fun()"
   ]
  },
  {
   "cell_type": "code",
   "execution_count": 39,
   "id": "a863c917",
   "metadata": {},
   "outputs": [
    {
     "name": "stdout",
     "output_type": "stream",
     "text": [
      "Hello\n"
     ]
    }
   ],
   "source": [
    "a = fun()"
   ]
  },
  {
   "cell_type": "code",
   "execution_count": 40,
   "id": "ca5f5744",
   "metadata": {},
   "outputs": [
    {
     "name": "stdout",
     "output_type": "stream",
     "text": [
      "None\n"
     ]
    }
   ],
   "source": [
    "print(a) \n",
    "#as the FUNCTION fun() doesn't return anything it gives \"None\" return type"
   ]
  },
  {
   "cell_type": "code",
   "execution_count": 10,
   "id": "79ab19ca",
   "metadata": {},
   "outputs": [],
   "source": [
    "def ff():\n",
    "    return 3 #IN THIS FUNCTION, integer return type is provided & returned"
   ]
  },
  {
   "cell_type": "code",
   "execution_count": 12,
   "id": "db040ecf",
   "metadata": {},
   "outputs": [],
   "source": [
    "b = ff()"
   ]
  },
  {
   "cell_type": "code",
   "execution_count": 13,
   "id": "38343c65",
   "metadata": {},
   "outputs": [
    {
     "data": {
      "text/plain": [
       "3"
      ]
     },
     "execution_count": 13,
     "metadata": {},
     "output_type": "execute_result"
    }
   ],
   "source": [
    "b"
   ]
  },
  {
   "cell_type": "code",
   "execution_count": 14,
   "id": "e06d4f26",
   "metadata": {},
   "outputs": [
    {
     "name": "stdout",
     "output_type": "stream",
     "text": [
      "3\n"
     ]
    }
   ],
   "source": [
    "print(b)"
   ]
  },
  {
   "cell_type": "raw",
   "id": "aa5c3281",
   "metadata": {},
   "source": [
    "FUNCTIONS ARE ALSO OBJECT!\n",
    "Functions are 1st class functions -> funtions are also treated as variables"
   ]
  },
  {
   "cell_type": "code",
   "execution_count": 15,
   "id": "23827414",
   "metadata": {},
   "outputs": [],
   "source": [
    "c = fun  #c is also an object now"
   ]
  },
  {
   "cell_type": "code",
   "execution_count": 17,
   "id": "1a0699ad",
   "metadata": {},
   "outputs": [
    {
     "name": "stdout",
     "output_type": "stream",
     "text": [
      "Hello\n"
     ]
    }
   ],
   "source": [
    "c()"
   ]
  },
  {
   "cell_type": "code",
   "execution_count": 18,
   "id": "deab26de",
   "metadata": {},
   "outputs": [],
   "source": [
    "def multiply(a, b):\n",
    "    return a*b"
   ]
  },
  {
   "cell_type": "code",
   "execution_count": 20,
   "id": "aea77969",
   "metadata": {},
   "outputs": [
    {
     "data": {
      "text/plain": [
       "20"
      ]
     },
     "execution_count": 20,
     "metadata": {},
     "output_type": "execute_result"
    }
   ],
   "source": [
    "multiply(4, 5)"
   ]
  },
  {
   "cell_type": "markdown",
   "id": "b46311ee",
   "metadata": {},
   "source": [
    "#IN BUILT FUNCTIONS: lambda , inline , Map, filter , reduce"
   ]
  },
  {
   "cell_type": "markdown",
   "id": "a1091989",
   "metadata": {},
   "source": [
    "#If funtion body is small, can use lambda or inline functions"
   ]
  },
  {
   "cell_type": "code",
   "execution_count": 21,
   "id": "3b1fccff",
   "metadata": {},
   "outputs": [],
   "source": [
    "def fun(a):\n",
    "    print(a)"
   ]
  },
  {
   "cell_type": "code",
   "execution_count": 22,
   "id": "62e0d447",
   "metadata": {},
   "outputs": [],
   "source": [
    "fun = lambda a: print(a)"
   ]
  },
  {
   "cell_type": "code",
   "execution_count": 23,
   "id": "5095cde8",
   "metadata": {},
   "outputs": [
    {
     "name": "stdout",
     "output_type": "stream",
     "text": [
      "hi\n"
     ]
    }
   ],
   "source": [
    "fun(\"hi\")"
   ]
  },
  {
   "cell_type": "code",
   "execution_count": 24,
   "id": "99c8974b",
   "metadata": {},
   "outputs": [
    {
     "name": "stdout",
     "output_type": "stream",
     "text": [
      "3\n"
     ]
    }
   ],
   "source": [
    "fun(3)"
   ]
  },
  {
   "cell_type": "code",
   "execution_count": 25,
   "id": "70516cc2",
   "metadata": {},
   "outputs": [],
   "source": [
    "def add(a,b):\n",
    "    return a + b"
   ]
  },
  {
   "cell_type": "code",
   "execution_count": 26,
   "id": "68ae0743",
   "metadata": {},
   "outputs": [],
   "source": [
    "add = lambda a, b: a + b  \n",
    "#You can write or not write return: Python automatically assumes it"
   ]
  },
  {
   "cell_type": "code",
   "execution_count": 27,
   "id": "4d75ece6",
   "metadata": {},
   "outputs": [
    {
     "data": {
      "text/plain": [
       "5"
      ]
     },
     "execution_count": 27,
     "metadata": {},
     "output_type": "execute_result"
    }
   ],
   "source": [
    "add(3,2)"
   ]
  },
  {
   "cell_type": "markdown",
   "id": "c39dc826",
   "metadata": {},
   "source": [
    "\n",
    "map: applies given function to each element of the iterable\n"
   ]
  },
  {
   "cell_type": "code",
   "execution_count": 47,
   "id": "f31788c8",
   "metadata": {},
   "outputs": [
    {
     "ename": "SyntaxError",
     "evalue": "invalid syntax (3419447984.py, line 1)",
     "output_type": "error",
     "traceback": [
      "\u001b[1;36m  Cell \u001b[1;32mIn [47], line 1\u001b[1;36m\u001b[0m\n\u001b[1;33m    map?\u001b[0m\n\u001b[1;37m       ^\u001b[0m\n\u001b[1;31mSyntaxError\u001b[0m\u001b[1;31m:\u001b[0m invalid syntax\n"
     ]
    }
   ],
   "source": [
    "map? #used to check what the function does\n"
   ]
  },
  {
   "cell_type": "code",
   "execution_count": 41,
   "id": "8916f64f",
   "metadata": {},
   "outputs": [
    {
     "name": "stdout",
     "output_type": "stream",
     "text": [
      "Object `lambda` not found.\n"
     ]
    }
   ],
   "source": [
    "lambda?"
   ]
  },
  {
   "cell_type": "code",
   "execution_count": 86,
   "id": "f3378635",
   "metadata": {},
   "outputs": [],
   "source": [
    "#multiply each number in list by 2\n",
    "a = [1,2,3,4]"
   ]
  },
  {
   "cell_type": "code",
   "execution_count": 87,
   "id": "333238e7",
   "metadata": {},
   "outputs": [],
   "source": [
    "def multiple(x):\n",
    "    return 2*x"
   ]
  },
  {
   "cell_type": "code",
   "execution_count": 90,
   "id": "61270498",
   "metadata": {},
   "outputs": [
    {
     "data": {
      "text/plain": [
       "[2, 4, 6, 8]"
      ]
     },
     "execution_count": 90,
     "metadata": {},
     "output_type": "execute_result"
    }
   ],
   "source": [
    "list(map(multiple, a))"
   ]
  },
  {
   "cell_type": "code",
   "execution_count": 33,
   "id": "86677ca2",
   "metadata": {},
   "outputs": [
    {
     "data": {
      "text/plain": [
       "[2, 4, 6, 8]"
      ]
     },
     "execution_count": 33,
     "metadata": {},
     "output_type": "execute_result"
    }
   ],
   "source": [
    "list(map(lambda x: 2 * x, a))"
   ]
  },
  {
   "cell_type": "code",
   "execution_count": 34,
   "id": "9014373d",
   "metadata": {},
   "outputs": [],
   "source": [
    "d= [1,2,3,4,5,6]"
   ]
  },
  {
   "cell_type": "code",
   "execution_count": 36,
   "id": "dcb7a851",
   "metadata": {},
   "outputs": [
    {
     "data": {
      "text/plain": [
       "[1, 4, 9, 16, 25, 36]"
      ]
     },
     "execution_count": 36,
     "metadata": {},
     "output_type": "execute_result"
    }
   ],
   "source": [
    "list(map(lambda x: x**2, d))"
   ]
  },
  {
   "cell_type": "markdown",
   "id": "0554fbff",
   "metadata": {},
   "source": [
    "\n",
    "FILTER Function- True or false values ONLY! --- it ignores False values \n",
    "(Q) Only want even numbers\n"
   ]
  },
  {
   "cell_type": "code",
   "execution_count": 43,
   "id": "c78df268",
   "metadata": {},
   "outputs": [],
   "source": [
    "d= [1,2,3,4,5,6,7,8,9,10]"
   ]
  },
  {
   "cell_type": "code",
   "execution_count": 44,
   "id": "923e235d",
   "metadata": {},
   "outputs": [],
   "source": [
    "def isEven(x):\n",
    "    if x%2==0:\n",
    "        return True\n",
    "    else:\n",
    "        return False"
   ]
  },
  {
   "cell_type": "code",
   "execution_count": 45,
   "id": "8e59ea68",
   "metadata": {},
   "outputs": [
    {
     "data": {
      "text/plain": [
       "[2, 4, 6, 8, 10]"
      ]
     },
     "execution_count": 45,
     "metadata": {},
     "output_type": "execute_result"
    }
   ],
   "source": [
    "list(filter(isEven, d))"
   ]
  },
  {
   "cell_type": "code",
   "execution_count": 46,
   "id": "d69ef770",
   "metadata": {},
   "outputs": [
    {
     "data": {
      "text/plain": [
       "[2, 4, 6, 8, 10]"
      ]
     },
     "execution_count": 46,
     "metadata": {},
     "output_type": "execute_result"
    }
   ],
   "source": [
    "#isEven function as a lambda function\n",
    "list(filter(lambda x: x%2==0, d))"
   ]
  },
  {
   "cell_type": "code",
   "execution_count": 49,
   "id": "43507bad",
   "metadata": {},
   "outputs": [
    {
     "ename": "SyntaxError",
     "evalue": "incomplete input (3536233557.py, line 2)",
     "output_type": "error",
     "traceback": [
      "\u001b[1;36m  Cell \u001b[1;32mIn [49], line 2\u001b[1;36m\u001b[0m\n\u001b[1;33m    def func():\u001b[0m\n\u001b[1;37m               ^\u001b[0m\n\u001b[1;31mSyntaxError\u001b[0m\u001b[1;31m:\u001b[0m incomplete input\n"
     ]
    }
   ],
   "source": [
    "#without body i'll get an error\n",
    "def func():"
   ]
  },
  {
   "cell_type": "code",
   "execution_count": 50,
   "id": "88aa3d06",
   "metadata": {},
   "outputs": [],
   "source": [
    "def func(): \n",
    "    pass     \n",
    "\n",
    "#pass is used when you want to declare a function but not provide body atm"
   ]
  },
  {
   "cell_type": "code",
   "execution_count": 51,
   "id": "9ca0d462",
   "metadata": {},
   "outputs": [],
   "source": [
    "def comm():\n",
    "    \"\"\" is this a comment? NO \"\"\" \n",
    "    \n",
    "#this \"\"\"  \"\"\" cannot be a comment becuase compiler treats it as multiline string\n",
    "#giving no error: as the func has a body "
   ]
  },
  {
   "cell_type": "markdown",
   "id": "20d41487",
   "metadata": {},
   "source": [
    "FACTS\n",
    "\n",
    "\n",
    "EVERYTHING IN PYTHON IS OBJECT!\n",
    "Functions are also object\n",
    "Classes are also object\n",
    "\n"
   ]
  },
  {
   "cell_type": "code",
   "execution_count": 52,
   "id": "2626897b",
   "metadata": {},
   "outputs": [],
   "source": [
    "a=10     "
   ]
  },
  {
   "cell_type": "code",
   "execution_count": 54,
   "id": "9cdaae99",
   "metadata": {},
   "outputs": [
    {
     "data": {
      "text/plain": [
       "True"
      ]
     },
     "execution_count": 54,
     "metadata": {},
     "output_type": "execute_result"
    }
   ],
   "source": [
    "isinstance(a, object)"
   ]
  },
  {
   "cell_type": "code",
   "execution_count": 55,
   "id": "af5a20d2",
   "metadata": {},
   "outputs": [
    {
     "data": {
      "text/plain": [
       "True"
      ]
     },
     "execution_count": 55,
     "metadata": {},
     "output_type": "execute_result"
    }
   ],
   "source": [
    "isinstance(func, object) \n",
    "#function func is an object, i.e it is an instance of object class"
   ]
  },
  {
   "cell_type": "markdown",
   "id": "ebc8a932",
   "metadata": {},
   "source": [
    "\n",
    "QUESTIONS\n"
   ]
  },
  {
   "cell_type": "code",
   "execution_count": 56,
   "id": "4657c91c",
   "metadata": {},
   "outputs": [
    {
     "data": {
      "text/plain": [
       "['Hello World', 'Python Programming', 'Data Science']"
      ]
     },
     "execution_count": 56,
     "metadata": {},
     "output_type": "execute_result"
    }
   ],
   "source": [
    "s = [\"hello world\", \"python programming\", \"data science\"]\n",
    "\n",
    "list(map(lambda s: s.title(), s))\n",
    "# capitalized Strings "
   ]
  },
  {
   "cell_type": "code",
   "execution_count": 57,
   "id": "0631d6d7",
   "metadata": {},
   "outputs": [],
   "source": [
    "str = [\"1\", \"22\", \"333\", \"4444\", \"55555\"]"
   ]
  },
  {
   "cell_type": "code",
   "execution_count": 65,
   "id": "3d553150",
   "metadata": {},
   "outputs": [],
   "source": [
    "def str(s):\n",
    "    int(s)"
   ]
  },
  {
   "cell_type": "code",
   "execution_count": 66,
   "id": "2e4b1921",
   "metadata": {},
   "outputs": [],
   "source": [
    "ans = str(\"22\")"
   ]
  },
  {
   "cell_type": "code",
   "execution_count": 67,
   "id": "e2d24bd8",
   "metadata": {},
   "outputs": [],
   "source": []
  },
  {
   "cell_type": "markdown",
   "id": "e38a33c7",
   "metadata": {},
   "source": [
    "\n",
    "\n",
    "INBUILT FUNCTIONS IN PYTHON FOR VARIOUS DATATYPES\n",
    "\n"
   ]
  },
  {
   "cell_type": "code",
   "execution_count": 91,
   "id": "019d6bc1",
   "metadata": {},
   "outputs": [],
   "source": [
    "a = [1,2,3,4]"
   ]
  },
  {
   "cell_type": "code",
   "execution_count": 69,
   "id": "acfce326",
   "metadata": {},
   "outputs": [],
   "source": [
    "a.insert(2, 34)"
   ]
  },
  {
   "cell_type": "code",
   "execution_count": 70,
   "id": "c0d054dc",
   "metadata": {},
   "outputs": [
    {
     "data": {
      "text/plain": [
       "[1, 2, 34, 3, 4]"
      ]
     },
     "execution_count": 70,
     "metadata": {},
     "output_type": "execute_result"
    }
   ],
   "source": [
    "a"
   ]
  },
  {
   "cell_type": "code",
   "execution_count": 80,
   "id": "e18739a0",
   "metadata": {},
   "outputs": [],
   "source": [
    "a.insert(4, 2)    #insert(ON THIS INDEX , THIS VALUE SHOULD BE PUT) "
   ]
  },
  {
   "cell_type": "code",
   "execution_count": 81,
   "id": "975ea134",
   "metadata": {},
   "outputs": [
    {
     "data": {
      "text/plain": [
       "[1, 2, 2, 34, 2, 3, 4]"
      ]
     },
     "execution_count": 81,
     "metadata": {},
     "output_type": "execute_result"
    }
   ],
   "source": [
    "a"
   ]
  },
  {
   "cell_type": "code",
   "execution_count": 82,
   "id": "0170c174",
   "metadata": {},
   "outputs": [],
   "source": [
    "a.remove(2)   #It removes the first index value at which the \"2\" APPEARS"
   ]
  },
  {
   "cell_type": "code",
   "execution_count": 83,
   "id": "d2866ac4",
   "metadata": {},
   "outputs": [
    {
     "data": {
      "text/plain": [
       "[1, 2, 34, 2, 3, 4]"
      ]
     },
     "execution_count": 83,
     "metadata": {},
     "output_type": "execute_result"
    }
   ],
   "source": [
    "a"
   ]
  },
  {
   "cell_type": "code",
   "execution_count": 84,
   "id": "f5b80180",
   "metadata": {},
   "outputs": [],
   "source": [
    "a.reverse()    #to reverse the list : can also be done by slicing"
   ]
  },
  {
   "cell_type": "code",
   "execution_count": 85,
   "id": "c7d2c5d8",
   "metadata": {},
   "outputs": [
    {
     "data": {
      "text/plain": [
       "[4, 3, 2, 34, 2, 1]"
      ]
     },
     "execution_count": 85,
     "metadata": {},
     "output_type": "execute_result"
    }
   ],
   "source": [
    "a"
   ]
  },
  {
   "cell_type": "markdown",
   "id": "de998a2c",
   "metadata": {},
   "source": []
  },
  {
   "cell_type": "code",
   "execution_count": null,
   "id": "8ac8e1bd",
   "metadata": {},
   "outputs": [],
   "source": []
  }
 ],
 "metadata": {
  "kernelspec": {
   "display_name": "Python 3 (ipykernel)",
   "language": "python",
   "name": "python3"
  },
  "language_info": {
   "codemirror_mode": {
    "name": "ipython",
    "version": 3
   },
   "file_extension": ".py",
   "mimetype": "text/x-python",
   "name": "python",
   "nbconvert_exporter": "python",
   "pygments_lexer": "ipython3",
   "version": "3.10.7"
  }
 },
 "nbformat": 4,
 "nbformat_minor": 5
}
