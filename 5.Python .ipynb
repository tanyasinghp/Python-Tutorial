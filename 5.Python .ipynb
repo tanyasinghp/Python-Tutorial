{
 "cells": [
  {
   "cell_type": "markdown",
   "id": "f11e7621",
   "metadata": {},
   "source": [
    "# Scoping "
   ]
  },
  {
   "cell_type": "code",
   "execution_count": 1,
   "id": "53aaaab7",
   "metadata": {},
   "outputs": [],
   "source": [
    "def fun():\n",
    "    a =10\n",
    "    "
   ]
  },
  {
   "cell_type": "code",
   "execution_count": 2,
   "id": "ab46ae78",
   "metadata": {},
   "outputs": [],
   "source": [
    "fun()"
   ]
  },
  {
   "cell_type": "code",
   "execution_count": 4,
   "id": "04c8dac7",
   "metadata": {
    "scrolled": true
   },
   "outputs": [
    {
     "ename": "NameError",
     "evalue": "name 'a' is not defined",
     "output_type": "error",
     "traceback": [
      "\u001b[1;31m---------------------------------------------------------------------------\u001b[0m",
      "\u001b[1;31mNameError\u001b[0m                                 Traceback (most recent call last)",
      "Cell \u001b[1;32mIn [4], line 1\u001b[0m\n\u001b[1;32m----> 1\u001b[0m \u001b[38;5;28mprint\u001b[39m(\u001b[43ma\u001b[49m)\n",
      "\u001b[1;31mNameError\u001b[0m: name 'a' is not defined"
     ]
    }
   ],
   "source": [
    "print(a)       \n",
    "#cannot access from outside, the variable a has scope only within the fun() funtion"
   ]
  },
  {
   "cell_type": "code",
   "execution_count": 5,
   "id": "f3d1220b",
   "metadata": {},
   "outputs": [
    {
     "ename": "UnboundLocalError",
     "evalue": "local variable 'a' referenced before assignment",
     "output_type": "error",
     "traceback": [
      "\u001b[1;31m---------------------------------------------------------------------------\u001b[0m",
      "\u001b[1;31mUnboundLocalError\u001b[0m                         Traceback (most recent call last)",
      "Cell \u001b[1;32mIn [5], line 5\u001b[0m\n\u001b[0;32m      2\u001b[0m \u001b[38;5;28;01mdef\u001b[39;00m \u001b[38;5;21mfun\u001b[39m():\n\u001b[0;32m      3\u001b[0m     a \u001b[38;5;241m=\u001b[39m a \u001b[38;5;241m+\u001b[39m \u001b[38;5;241m2\u001b[39m\n\u001b[1;32m----> 5\u001b[0m \u001b[43mfun\u001b[49m\u001b[43m(\u001b[49m\u001b[43m)\u001b[49m\n",
      "Cell \u001b[1;32mIn [5], line 3\u001b[0m, in \u001b[0;36mfun\u001b[1;34m()\u001b[0m\n\u001b[0;32m      2\u001b[0m \u001b[38;5;28;01mdef\u001b[39;00m \u001b[38;5;21mfun\u001b[39m():\n\u001b[1;32m----> 3\u001b[0m     a \u001b[38;5;241m=\u001b[39m \u001b[43ma\u001b[49m \u001b[38;5;241m+\u001b[39m \u001b[38;5;241m2\u001b[39m\n",
      "\u001b[1;31mUnboundLocalError\u001b[0m: local variable 'a' referenced before assignment"
     ]
    }
   ],
   "source": [
    "a = 20  #GLOBAL VARIABLE a\n",
    "def fun():\n",
    "    a = a + 2 #we can't change the value of above(global) a in here local a \n",
    "              #because other variables are also using the global a, \n",
    "              #changing it through function can pose threat for others\n",
    "            \n",
    "            \n",
    "fun() "
   ]
  },
  {
   "cell_type": "code",
   "execution_count": 6,
   "id": "10b3faa5",
   "metadata": {},
   "outputs": [
    {
     "name": "stdout",
     "output_type": "stream",
     "text": [
      "80\n"
     ]
    }
   ],
   "source": [
    "a =20 \n",
    "def fun():\n",
    "    a = 60     #here it works because we initialised another a specific to this function\n",
    "    a = a+20\n",
    "    print(a)\n",
    "    \n",
    "fun()"
   ]
  },
  {
   "cell_type": "code",
   "execution_count": null,
   "id": "c0cb1dd2",
   "metadata": {},
   "outputs": [],
   "source": [
    "#therefore you can access a global variable but cannot change it directly"
   ]
  },
  {
   "cell_type": "code",
   "execution_count": 8,
   "id": "00ad03f5",
   "metadata": {},
   "outputs": [],
   "source": [
    "a = 10\n",
    "def fun():\n",
    "    print(a)   #this is just accessing NOT CHANGING ANYTHING\n",
    "               #it checks for a in local, since it is not there \n",
    "               # it goes to global, hence giving a =10"
   ]
  },
  {
   "cell_type": "code",
   "execution_count": 9,
   "id": "d865c7fe",
   "metadata": {},
   "outputs": [
    {
     "name": "stdout",
     "output_type": "stream",
     "text": [
      "10\n"
     ]
    }
   ],
   "source": [
    "fun()"
   ]
  },
  {
   "cell_type": "markdown",
   "id": "b099e663",
   "metadata": {},
   "source": [
    "# RULE: L(local) E(enclosed) G(global) B(built-in) "
   ]
  },
  {
   "cell_type": "code",
   "execution_count": 10,
   "id": "af7ec8af",
   "metadata": {},
   "outputs": [],
   "source": [
    "x = 50\n",
    "\n",
    "def a():\n",
    "    x = 10\n",
    "    #this x =10 is enclosed for b()\n",
    "    \n",
    "    def b():     #In a() this has just been defined here as b(), not called\n",
    "        x = 40\n",
    "        print(\"x local to b() is\", x)\n",
    "        \n",
    "    print(\"x local to a() is\", x) # 1st this\n",
    "    return b()                    #2nd this- it checks in b()'s local\n",
    "    "
   ]
  },
  {
   "cell_type": "code",
   "execution_count": 11,
   "id": "499de329",
   "metadata": {
    "scrolled": true
   },
   "outputs": [
    {
     "name": "stdout",
     "output_type": "stream",
     "text": [
      "x local to a() is 10\n",
      "x local to b() is 40\n"
     ]
    }
   ],
   "source": [
    "a()"
   ]
  },
  {
   "cell_type": "code",
   "execution_count": 16,
   "id": "d8f58dc7",
   "metadata": {},
   "outputs": [],
   "source": [
    "x = 50\n",
    "\n",
    "def a():\n",
    "    x = 10\n",
    "    #this x =10 is enclosed for b()\n",
    "    \n",
    "    def b():     \n",
    "        x = 40\n",
    "        print(\"x local to b() is\", x)\n",
    "        print(\"locals for b are\", locals())\n",
    "        #locals() method gives all local variables in the respective function, here b()\n",
    "        \n",
    "    print(\"x local to a() is\", x) \n",
    "    print(\"locals for a are\", locals())\n",
    "    return b()                    \n",
    "    \n"
   ]
  },
  {
   "cell_type": "code",
   "execution_count": 17,
   "id": "95477285",
   "metadata": {},
   "outputs": [
    {
     "name": "stdout",
     "output_type": "stream",
     "text": [
      "x local to a() is 10\n",
      "locals for a are {'x': 10, 'b': <function a.<locals>.b at 0x00000257C0948D30>}\n",
      "x local to b() is 40\n",
      "locals for b are {'x': 40}\n"
     ]
    }
   ],
   "source": [
    "a()"
   ]
  },
  {
   "cell_type": "code",
   "execution_count": 18,
   "id": "01184a38",
   "metadata": {},
   "outputs": [
    {
     "name": "stdout",
     "output_type": "stream",
     "text": [
      "256\n",
      "10\n",
      "45\n",
      "45\n"
     ]
    }
   ],
   "source": [
    "x = 256\n",
    "\n",
    "def a():\n",
    "    x = 10\n",
    "    \n",
    "    def b():\n",
    "        x = 45\n",
    "        \n",
    "        def c():\n",
    "            print(x)\n",
    "            \n",
    "        print(x)\n",
    "        c()\n",
    "        \n",
    "    print(x)\n",
    "    b()\n",
    "    \n",
    "\n",
    "print(x)\n",
    "a()"
   ]
  },
  {
   "cell_type": "code",
   "execution_count": 20,
   "id": "799df5bf",
   "metadata": {},
   "outputs": [
    {
     "name": "stdout",
     "output_type": "stream",
     "text": [
      "256\n",
      "10\n",
      "45\n",
      "145\n",
      "x ki value in b after running c() 145\n"
     ]
    }
   ],
   "source": [
    "x = 256\n",
    "\n",
    "def a():\n",
    "    x = 10\n",
    "    \n",
    "    def b():\n",
    "        x = 45  #-----> this is the nonlocal x that is being refered to here\n",
    "        \n",
    "        def c():\n",
    "            nonlocal x  #explicitily asking to change the x\n",
    "            x +=100  #it won't allow me to do this but with above \"nonlocal\" it's possible\n",
    "            print(x)\n",
    "            \n",
    "        print(x) #45\n",
    "        c() \n",
    "        print(\"x ki value in b after running c()\", x) #145\n",
    "        \n",
    "    print(x)\n",
    "    b()\n",
    "    \n",
    "\n",
    "print(x)\n",
    "a()"
   ]
  },
  {
   "cell_type": "code",
   "execution_count": 21,
   "id": "5d03cdc4",
   "metadata": {},
   "outputs": [
    {
     "name": "stdout",
     "output_type": "stream",
     "text": [
      "256\n",
      "10\n",
      "45\n",
      "356\n",
      "x ki value in b after running c() 45\n"
     ]
    }
   ],
   "source": [
    "x = 256\n",
    "\n",
    "def a():\n",
    "    x = 10\n",
    "    \n",
    "    def b():\n",
    "        x = 45  #-----> this is the nonlocal x that is being refered to here\n",
    "        \n",
    "        def c():\n",
    "            global x  #this will change global x\n",
    "            x +=100  #it won't allow me to do this but with above \"global\" it's possible\n",
    "            print(x)\n",
    "            \n",
    "        print(x) #45\n",
    "        c() \n",
    "        print(\"x ki value in b after running c()\", x) #45\n",
    "        \n",
    "    print(x)\n",
    "    b()\n",
    "    \n",
    "\n",
    "print(x)\n",
    "a()"
   ]
  },
  {
   "cell_type": "code",
   "execution_count": 22,
   "id": "98ac9ca7",
   "metadata": {},
   "outputs": [
    {
     "data": {
      "text/plain": [
       "356"
      ]
     },
     "execution_count": 22,
     "metadata": {},
     "output_type": "execute_result"
    }
   ],
   "source": [
    "x"
   ]
  },
  {
   "cell_type": "markdown",
   "id": "91389e17",
   "metadata": {},
   "source": [
    "you can access a certain variable but if you want to explicity change, then you need to specify what you want to change"
   ]
  },
  {
   "cell_type": "markdown",
   "id": "7387a09e",
   "metadata": {},
   "source": [
    "# CLOSURE"
   ]
  },
  {
   "cell_type": "code",
   "execution_count": 27,
   "id": "a91ba62a",
   "metadata": {},
   "outputs": [],
   "source": [
    "def outer_func():\n",
    "    message = \"hi\" #message ka scope khatam hogaya tha here, but inner_func() still had its value \n",
    "    \n",
    "    def inner_func():\n",
    "        print(message) #free variable\n",
    "        \n",
    "    return inner_func()"
   ]
  },
  {
   "cell_type": "code",
   "execution_count": 28,
   "id": "71d92e76",
   "metadata": {},
   "outputs": [
    {
     "name": "stdout",
     "output_type": "stream",
     "text": [
      "hi\n"
     ]
    }
   ],
   "source": [
    "my_func = outer_func() #outer_func returns the inner func"
   ]
  },
  {
   "cell_type": "code",
   "execution_count": 30,
   "id": "5390dfb9",
   "metadata": {},
   "outputs": [
    {
     "name": "stdout",
     "output_type": "stream",
     "text": [
      "hi\n"
     ]
    }
   ],
   "source": [
    "outer_func()"
   ]
  },
  {
   "cell_type": "markdown",
   "id": "6e85b5c4",
   "metadata": {},
   "source": [
    "closure - should be a nested function\n",
    "          enclosed value will be available to the inner function even when outer_func() work is done"
   ]
  },
  {
   "cell_type": "markdown",
   "id": "638655a4",
   "metadata": {},
   "source": [
    "FREE VARIABLE: something that is used in the function but is not defined in that function\n",
    "CLOSURE: captures the free variables\n",
    "*used for data hiding & decorator"
   ]
  },
  {
   "cell_type": "markdown",
   "id": "ff4907d4",
   "metadata": {},
   "source": [
    "DECORATORS use closure internally!"
   ]
  },
  {
   "cell_type": "code",
   "execution_count": null,
   "id": "6cba8117",
   "metadata": {},
   "outputs": [],
   "source": [
    "def make_multi(n):\n",
    "    def multipl"
   ]
  },
  {
   "cell_type": "code",
   "execution_count": null,
   "id": "e5936cab",
   "metadata": {},
   "outputs": [],
   "source": []
  }
 ],
 "metadata": {
  "kernelspec": {
   "display_name": "Python 3 (ipykernel)",
   "language": "python",
   "name": "python3"
  },
  "language_info": {
   "codemirror_mode": {
    "name": "ipython",
    "version": 3
   },
   "file_extension": ".py",
   "mimetype": "text/x-python",
   "name": "python",
   "nbconvert_exporter": "python",
   "pygments_lexer": "ipython3",
   "version": "3.10.7"
  }
 },
 "nbformat": 4,
 "nbformat_minor": 5
}
